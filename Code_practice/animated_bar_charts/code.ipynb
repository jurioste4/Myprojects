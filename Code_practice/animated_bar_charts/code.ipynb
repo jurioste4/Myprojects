{
 "cells": [
  {
   "cell_type": "code",
   "execution_count": 1,
   "metadata": {},
   "outputs": [],
   "source": [
    "import pandas as pd\n",
    "import numpy as np\n"
   ]
  },
  {
   "cell_type": "code",
   "execution_count": null,
   "metadata": {},
   "outputs": [],
   "source": [
    "prem_league = pd.read_csv('data/premierLeague_tables_1992-2017.csv')\n",
    "\n",
    "prem_league.head(100)"
   ]
  },
  {
   "cell_type": "code",
   "execution_count": null,
   "metadata": {},
   "outputs": [],
   "source": [
    "prem_league = prem_league[['season', 'team','points']]\n",
    "\n",
    "prem_league.head(100)"
   ]
  },
  {
   "cell_type": "code",
   "execution_count": null,
   "metadata": {},
   "outputs": [],
   "source": [
    "df = prem_league.pivot_table(values = 'points',index = ['season'],  columns = 'team')"
   ]
  },
  {
   "cell_type": "code",
   "execution_count": null,
   "metadata": {},
   "outputs": [],
   "source": [
    "# df — the dataframe that we want to transform.\n",
    "\n",
    "# index — the feature that we want to use as an index. In our case, it should be the date.\n",
    "\n",
    "# columns — the feature that we want to transform where each of the unique value of the feature becomes the column. In our case, this should\n",
    "\n",
    "# values — the value that represents each column in each row. In our case, it should be the number of points.\n"
   ]
  },
  {
   "cell_type": "code",
   "execution_count": null,
   "metadata": {},
   "outputs": [],
   "source": [
    "df.head(100)"
   ]
  },
  {
   "cell_type": "code",
   "execution_count": null,
   "metadata": {},
   "outputs": [],
   "source": [
    "df.fillna(0,inplace=True)\n",
    "df.sort_values(list(df.columns),inplace=True)\n",
    "df = df.sort_index()"
   ]
  },
  {
   "cell_type": "code",
   "execution_count": null,
   "metadata": {},
   "outputs": [],
   "source": [
    "df.head(100)"
   ]
  },
  {
   "cell_type": "code",
   "execution_count": null,
   "metadata": {},
   "outputs": [],
   "source": [
    "df.iloc[:, 0:-1] = df.iloc[:, 0:-1].cumsum()\n",
    "df.head(100)"
   ]
  },
  {
   "cell_type": "code",
   "execution_count": null,
   "metadata": {},
   "outputs": [],
   "source": [
    "# code below sifts though the rows and keeps only the top 6. \n",
    "\n",
    "top_prem_clubs= set()\n",
    "\n",
    "for index, row in df.iterrows():\n",
    "    top_prem_clubs |= set(row[row > 0].sort_values(ascending=False).head(6).index)\n",
    "\n",
    "\n",
    "df = df[top_prem_clubs]\n"
   ]
  },
  {
   "cell_type": "code",
   "execution_count": null,
   "metadata": {},
   "outputs": [],
   "source": [
    "df.head(100)"
   ]
  },
  {
   "cell_type": "code",
   "execution_count": null,
   "metadata": {},
   "outputs": [],
   "source": [
    "\n",
    "import bar_chart_race as bcr\n"
   ]
  },
  {
   "cell_type": "code",
   "execution_count": null,
   "metadata": {},
   "outputs": [],
   "source": [
    "bcr.bar_chart_race(df = df, \n",
    "                   n_bars = 6, \n",
    "                   sort='desc',\n",
    "                   title='Premier League Clubs Points Since 1992',\n",
    "                   period_length  = 750,\n",
    "                   filename = 'pl_clubs.mp4')"
   ]
  },
  {
   "cell_type": "code",
   "execution_count": null,
   "metadata": {},
   "outputs": [],
   "source": [
    "bcr.bar_chart_race(df, img_label_folder = 'PL clubs', n_bars=6, period_length = 750)"
   ]
  },
  {
   "cell_type": "code",
   "execution_count": null,
   "metadata": {},
   "outputs": [],
   "source": [
    "bcr.bar_chart_race(df)"
   ]
  },
  {
   "cell_type": "code",
   "execution_count": null,
   "metadata": {},
   "outputs": [],
   "source": []
  }
 ],
 "metadata": {
  "interpreter": {
   "hash": "83cdbe0229c70757e8ab99bb33c78c283d53aa8de5f36aeda698a5ed880ef534"
  },
  "kernelspec": {
   "display_name": "Python 3",
   "language": "python",
   "name": "python3"
  },
  "language_info": {
   "codemirror_mode": {
    "name": "ipython",
    "version": 3
   },
   "file_extension": ".py",
   "mimetype": "text/x-python",
   "name": "python",
   "nbconvert_exporter": "python",
   "pygments_lexer": "ipython3",
   "version": "3.8.8"
  }
 },
 "nbformat": 4,
 "nbformat_minor": 2
}
