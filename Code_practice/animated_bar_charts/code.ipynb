{
 "metadata": {
  "language_info": {
   "codemirror_mode": {
    "name": "ipython",
    "version": 3
   },
   "file_extension": ".py",
   "mimetype": "text/x-python",
   "name": "python",
   "nbconvert_exporter": "python",
   "pygments_lexer": "ipython3",
   "version": "3.8.8"
  },
  "orig_nbformat": 4,
  "kernelspec": {
   "name": "python3",
   "display_name": "Python 3.8.8 64-bit ('base': conda)"
  },
  "interpreter": {
   "hash": "83cdbe0229c70757e8ab99bb33c78c283d53aa8de5f36aeda698a5ed880ef534"
  }
 },
 "nbformat": 4,
 "nbformat_minor": 2,
 "cells": [
  {
   "cell_type": "code",
   "execution_count": 1,
   "metadata": {},
   "outputs": [],
   "source": [
    "import pandas as pd\n",
    "import numpy as np\n"
   ]
  },
  {
   "cell_type": "code",
   "execution_count": 3,
   "metadata": {},
   "outputs": [
    {
     "output_type": "execute_result",
     "data": {
      "text/plain": [
       "    season               team  points   w   d   l   gf  ga  gd  pld  ...  d_h  \\\n",
       "0  2017-18    Manchester City     100  32   4   2  106  27  79   38  ...    2   \n",
       "1  2017-18  Manchester United      81  25   6   7   68  28  40   38  ...    2   \n",
       "2  2017-18  Tottenham Hotspur      77  23   8   7   74  36  38   38  ...    4   \n",
       "3  2017-18          Liverpool      75  21  12   5   84  38  46   38  ...    7   \n",
       "4  2017-18            Chelsea      70  21   7  10   62  38  24   38  ...    4   \n",
       "\n",
       "   d_a  l_h  l_a  gf_h  gf_a  ga_h  ga_a  gd_h  gd_a  \n",
       "0    2    1    1    61    45    14    13    47    32  \n",
       "1    4    2    5    38    30     9    19    29    11  \n",
       "2    4    2    5    40    34    16    20    24    14  \n",
       "3    5    0    5    45    39    10    28    35    11  \n",
       "4    3    4    6    30    32    16    22    14    10  \n",
       "\n",
       "[5 rows x 26 columns]"
      ],
      "text/html": "<div>\n<style scoped>\n    .dataframe tbody tr th:only-of-type {\n        vertical-align: middle;\n    }\n\n    .dataframe tbody tr th {\n        vertical-align: top;\n    }\n\n    .dataframe thead th {\n        text-align: right;\n    }\n</style>\n<table border=\"1\" class=\"dataframe\">\n  <thead>\n    <tr style=\"text-align: right;\">\n      <th></th>\n      <th>season</th>\n      <th>team</th>\n      <th>points</th>\n      <th>w</th>\n      <th>d</th>\n      <th>l</th>\n      <th>gf</th>\n      <th>ga</th>\n      <th>gd</th>\n      <th>pld</th>\n      <th>...</th>\n      <th>d_h</th>\n      <th>d_a</th>\n      <th>l_h</th>\n      <th>l_a</th>\n      <th>gf_h</th>\n      <th>gf_a</th>\n      <th>ga_h</th>\n      <th>ga_a</th>\n      <th>gd_h</th>\n      <th>gd_a</th>\n    </tr>\n  </thead>\n  <tbody>\n    <tr>\n      <th>0</th>\n      <td>2017-18</td>\n      <td>Manchester City</td>\n      <td>100</td>\n      <td>32</td>\n      <td>4</td>\n      <td>2</td>\n      <td>106</td>\n      <td>27</td>\n      <td>79</td>\n      <td>38</td>\n      <td>...</td>\n      <td>2</td>\n      <td>2</td>\n      <td>1</td>\n      <td>1</td>\n      <td>61</td>\n      <td>45</td>\n      <td>14</td>\n      <td>13</td>\n      <td>47</td>\n      <td>32</td>\n    </tr>\n    <tr>\n      <th>1</th>\n      <td>2017-18</td>\n      <td>Manchester United</td>\n      <td>81</td>\n      <td>25</td>\n      <td>6</td>\n      <td>7</td>\n      <td>68</td>\n      <td>28</td>\n      <td>40</td>\n      <td>38</td>\n      <td>...</td>\n      <td>2</td>\n      <td>4</td>\n      <td>2</td>\n      <td>5</td>\n      <td>38</td>\n      <td>30</td>\n      <td>9</td>\n      <td>19</td>\n      <td>29</td>\n      <td>11</td>\n    </tr>\n    <tr>\n      <th>2</th>\n      <td>2017-18</td>\n      <td>Tottenham Hotspur</td>\n      <td>77</td>\n      <td>23</td>\n      <td>8</td>\n      <td>7</td>\n      <td>74</td>\n      <td>36</td>\n      <td>38</td>\n      <td>38</td>\n      <td>...</td>\n      <td>4</td>\n      <td>4</td>\n      <td>2</td>\n      <td>5</td>\n      <td>40</td>\n      <td>34</td>\n      <td>16</td>\n      <td>20</td>\n      <td>24</td>\n      <td>14</td>\n    </tr>\n    <tr>\n      <th>3</th>\n      <td>2017-18</td>\n      <td>Liverpool</td>\n      <td>75</td>\n      <td>21</td>\n      <td>12</td>\n      <td>5</td>\n      <td>84</td>\n      <td>38</td>\n      <td>46</td>\n      <td>38</td>\n      <td>...</td>\n      <td>7</td>\n      <td>5</td>\n      <td>0</td>\n      <td>5</td>\n      <td>45</td>\n      <td>39</td>\n      <td>10</td>\n      <td>28</td>\n      <td>35</td>\n      <td>11</td>\n    </tr>\n    <tr>\n      <th>4</th>\n      <td>2017-18</td>\n      <td>Chelsea</td>\n      <td>70</td>\n      <td>21</td>\n      <td>7</td>\n      <td>10</td>\n      <td>62</td>\n      <td>38</td>\n      <td>24</td>\n      <td>38</td>\n      <td>...</td>\n      <td>4</td>\n      <td>3</td>\n      <td>4</td>\n      <td>6</td>\n      <td>30</td>\n      <td>32</td>\n      <td>16</td>\n      <td>22</td>\n      <td>14</td>\n      <td>10</td>\n    </tr>\n  </tbody>\n</table>\n<p>5 rows × 26 columns</p>\n</div>"
     },
     "metadata": {},
     "execution_count": 3
    }
   ],
   "source": [
    "prem_league = pd.read_csv('data/premierLeague_tables_1992-2017.csv')\n",
    "\n",
    "prem_league.head()"
   ]
  },
  {
   "cell_type": "code",
   "execution_count": 4,
   "metadata": {},
   "outputs": [
    {
     "output_type": "execute_result",
     "data": {
      "text/plain": [
       "    season               team  points\n",
       "0  2017-18    Manchester City     100\n",
       "1  2017-18  Manchester United      81\n",
       "2  2017-18  Tottenham Hotspur      77\n",
       "3  2017-18          Liverpool      75\n",
       "4  2017-18            Chelsea      70"
      ],
      "text/html": "<div>\n<style scoped>\n    .dataframe tbody tr th:only-of-type {\n        vertical-align: middle;\n    }\n\n    .dataframe tbody tr th {\n        vertical-align: top;\n    }\n\n    .dataframe thead th {\n        text-align: right;\n    }\n</style>\n<table border=\"1\" class=\"dataframe\">\n  <thead>\n    <tr style=\"text-align: right;\">\n      <th></th>\n      <th>season</th>\n      <th>team</th>\n      <th>points</th>\n    </tr>\n  </thead>\n  <tbody>\n    <tr>\n      <th>0</th>\n      <td>2017-18</td>\n      <td>Manchester City</td>\n      <td>100</td>\n    </tr>\n    <tr>\n      <th>1</th>\n      <td>2017-18</td>\n      <td>Manchester United</td>\n      <td>81</td>\n    </tr>\n    <tr>\n      <th>2</th>\n      <td>2017-18</td>\n      <td>Tottenham Hotspur</td>\n      <td>77</td>\n    </tr>\n    <tr>\n      <th>3</th>\n      <td>2017-18</td>\n      <td>Liverpool</td>\n      <td>75</td>\n    </tr>\n    <tr>\n      <th>4</th>\n      <td>2017-18</td>\n      <td>Chelsea</td>\n      <td>70</td>\n    </tr>\n  </tbody>\n</table>\n</div>"
     },
     "metadata": {},
     "execution_count": 4
    }
   ],
   "source": [
    "prem_league = prem_league[['season', 'team','points']]\n",
    "\n",
    "prem_league.head()"
   ]
  },
  {
   "cell_type": "code",
   "execution_count": 5,
   "metadata": {},
   "outputs": [],
   "source": [
    "df = prem_league.pivot_table(values = 'points',index = ['season'],                                                                                                                columns = 'team')"
   ]
  },
  {
   "cell_type": "code",
   "execution_count": 8,
   "metadata": {},
   "outputs": [],
   "source": [
    "# df — the dataframe that we want to transform.\n",
    "\n",
    "# index — the feature that we want to use as an index. In our case, it should be the date.\n",
    "\n",
    "# columns — the feature that we want to transform where each of the unique value of the feature becomes the column. In our case, this should\n",
    "\n",
    "# values — the value that represents each column in each row. In our case, it should be the number of points.\n"
   ]
  },
  {
   "cell_type": "code",
   "execution_count": null,
   "metadata": {},
   "outputs": [],
   "source": []
  }
 ]
}