{
 "cells": [
  {
   "cell_type": "code",
   "execution_count": 1,
   "id": "impressive-portugal",
   "metadata": {},
   "outputs": [],
   "source": [
    "import sqlalchemy\n",
    "from sqlalchemy.ext.automap import automap_base\n",
    "from sqlalchemy.orm import Session\n",
    "from sqlalchemy import create_engine, inspect, func\n",
    "import pandas\n",
    "from connect import info\n",
    "\n",
    "engine = create_engine(info)\n",
    "Base = automap_base()\n",
    "inspector = inspect(engine)"
   ]
  },
  {
   "cell_type": "code",
   "execution_count": 2,
   "id": "incredible-trustee",
   "metadata": {},
   "outputs": [
    {
     "data": {
      "text/plain": [
       "['actor',\n",
       " 'store',\n",
       " 'address',\n",
       " 'category',\n",
       " 'city',\n",
       " 'country',\n",
       " 'customer',\n",
       " 'film_actor',\n",
       " 'film_category',\n",
       " 'inventory',\n",
       " 'language',\n",
       " 'rental',\n",
       " 'staff',\n",
       " 'payment',\n",
       " 'film',\n",
       " 'links',\n",
       " 'employees']"
      ]
     },
     "execution_count": 2,
     "metadata": {},
     "output_type": "execute_result"
    }
   ],
   "source": [
    "\n",
    "inspector.get_table_names()"
   ]
  },
  {
   "cell_type": "code",
   "execution_count": null,
   "id": "essential-vegetarian",
   "metadata": {},
   "outputs": [],
   "source": [
    "columns = inspector.get_columns('film')\n",
    "for c in columns:\n",
    "    print(c['name'], c[\"type\"])"
   ]
  },
  {
   "cell_type": "code",
   "execution_count": 3,
   "id": "chicken-career",
   "metadata": {
    "scrolled": true
   },
   "outputs": [],
   "source": [
    "\n",
    "Base.prepare(engine, reflect=True)\n",
    "Film = Base.classes.film"
   ]
  },
  {
   "cell_type": "code",
   "execution_count": 4,
   "id": "relative-warrant",
   "metadata": {},
   "outputs": [],
   "source": [
    "session = Session(engine)"
   ]
  },
  {
   "cell_type": "code",
   "execution_count": 5,
   "id": "charming-encounter",
   "metadata": {},
   "outputs": [],
   "source": [
    "results = session.query(Film.film_id, Film.title, Film.rental_rate).\\\n",
    "order_by(Film.rental_rate.desc()).all()"
   ]
  },
  {
   "cell_type": "code",
   "execution_count": 6,
   "id": "imperial-affiliate",
   "metadata": {},
   "outputs": [
    {
     "name": "stdout",
     "output_type": "stream",
     "text": [
      "Chamber Italian 2006\n",
      "Grosse Wonderful 2006\n",
      "Airport Pollock 2006\n",
      "Bright Encounters 2006\n",
      "Academy Dinosaur 2006\n",
      "Ace Goldfinger 2006\n",
      "Adaptation Holes 2006\n",
      "Affair Prejudice 2006\n",
      "African Egg 2006\n",
      "Agent Truman 2006\n"
     ]
    }
   ],
   "source": [
    "for row in session.query(Film.title, Film.release_year, ).limit(10):\n",
    "            print(row.title, row.release_year)"
   ]
  },
  {
   "cell_type": "code",
   "execution_count": null,
   "id": "biblical-bachelor",
   "metadata": {},
   "outputs": [],
   "source": [
    "df = pandas.DataFrame(results[:10], columns=['Film_id', 'Title', 'rental_rate'])\n",
    "df.set_index('Film_id', inplace=True)\n",
    "df.head()"
   ]
  },
  {
   "cell_type": "code",
   "execution_count": null,
   "id": "emotional-wages",
   "metadata": {},
   "outputs": [],
   "source": [
    "Cat = Base.classes.category"
   ]
  },
  {
   "cell_type": "code",
   "execution_count": null,
   "id": "broad-newton",
   "metadata": {},
   "outputs": [],
   "source": [
    "result = session.query(Cat.category_id, Cat.name, Cat.last_update).\\\n",
    "order_by(Cat.last_update.desc()).all()"
   ]
  },
  {
   "cell_type": "code",
   "execution_count": null,
   "id": "informational-emperor",
   "metadata": {},
   "outputs": [],
   "source": [
    "df = pandas.DataFrame(result[:10], columns=['category_id', 'Name', 'last_update'])\n",
    "df.set_index('category_id', inplace=True)\n",
    "df.head()"
   ]
  },
  {
   "cell_type": "code",
   "execution_count": null,
   "id": "burning-revision",
   "metadata": {},
   "outputs": [],
   "source": []
  }
 ],
 "metadata": {
  "kernelspec": {
   "display_name": "Python 3",
   "language": "python",
   "name": "python3"
  },
  "language_info": {
   "codemirror_mode": {
    "name": "ipython",
    "version": 3
   },
   "file_extension": ".py",
   "mimetype": "text/x-python",
   "name": "python",
   "nbconvert_exporter": "python",
   "pygments_lexer": "ipython3",
   "version": "3.7.9"
  },
  "toc": {
   "base_numbering": 1,
   "nav_menu": {},
   "number_sections": false,
   "sideBar": false,
   "skip_h1_title": false,
   "title_cell": "Table of Contents",
   "title_sidebar": "Contents",
   "toc_cell": false,
   "toc_position": {},
   "toc_section_display": false,
   "toc_window_display": false
  }
 },
 "nbformat": 4,
 "nbformat_minor": 5
}
