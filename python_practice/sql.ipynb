{
 "cells": [
  {
   "cell_type": "code",
   "execution_count": 1,
   "id": "conscious-ambassador",
   "metadata": {},
   "outputs": [],
   "source": [
    "import sqlalchemy\n",
    "from sqlalchemy.ext.automap import automap_base\n",
    "from sqlalchemy.orm import Session\n",
    "from sqlalchemy import create_engine, inspect, func\n",
    "import pandas\n",
    "from connect import info\n",
    "\n",
    "engine = create_engine(info)\n",
    "Base = automap_base()"
   ]
  },
  {
   "cell_type": "code",
   "execution_count": 2,
   "id": "optional-australia",
   "metadata": {},
   "outputs": [
    {
     "data": {
      "text/plain": [
       "['actor',\n",
       " 'store',\n",
       " 'address',\n",
       " 'category',\n",
       " 'city',\n",
       " 'country',\n",
       " 'customer',\n",
       " 'film_actor',\n",
       " 'film_category',\n",
       " 'inventory',\n",
       " 'language',\n",
       " 'rental',\n",
       " 'staff',\n",
       " 'payment',\n",
       " 'film',\n",
       " 'links',\n",
       " 'employees']"
      ]
     },
     "execution_count": 2,
     "metadata": {},
     "output_type": "execute_result"
    }
   ],
   "source": [
    "inspector = inspect(engine)\n",
    "inspector.get_table_names()"
   ]
  },
  {
   "cell_type": "code",
   "execution_count": 3,
   "id": "entitled-kansas",
   "metadata": {},
   "outputs": [
    {
     "name": "stdout",
     "output_type": "stream",
     "text": [
      "film_id INTEGER\n",
      "title VARCHAR(255)\n",
      "description TEXT\n",
      "release_year INTEGER\n",
      "language_id SMALLINT\n",
      "rental_duration SMALLINT\n",
      "rental_rate NUMERIC(4, 2)\n",
      "length SMALLINT\n",
      "replacement_cost NUMERIC(5, 2)\n",
      "rating mpaa_rating\n",
      "last_update TIMESTAMP WITHOUT TIME ZONE\n",
      "special_features TEXT[]\n",
      "fulltext TSVECTOR\n"
     ]
    }
   ],
   "source": [
    "columns = inspector.get_columns('film')\n",
    "for c in columns:\n",
    "    print(c['name'], c[\"type\"])"
   ]
  },
  {
   "cell_type": "code",
   "execution_count": 4,
   "id": "about-camera",
   "metadata": {
    "scrolled": true
   },
   "outputs": [],
   "source": [
    "\n",
    "Base.prepare(engine, reflect=True)\n",
    "Film = Base.classes.film"
   ]
  },
  {
   "cell_type": "code",
   "execution_count": 5,
   "id": "japanese-promise",
   "metadata": {},
   "outputs": [],
   "source": [
    "session = Session(engine)"
   ]
  },
  {
   "cell_type": "code",
   "execution_count": 14,
   "id": "coordinate-decline",
   "metadata": {},
   "outputs": [],
   "source": [
    "results = session.query(Film.film_id, Film.title, Film.rental_rate).\\\n",
    "order_by(Film.rental_rate.desc()).all()"
   ]
  },
  {
   "cell_type": "code",
   "execution_count": 12,
   "id": "american-aviation",
   "metadata": {},
   "outputs": [
    {
     "name": "stdout",
     "output_type": "stream",
     "text": [
      "Chamber Italian 2006\n",
      "Grosse Wonderful 2006\n",
      "Airport Pollock 2006\n",
      "Bright Encounters 2006\n",
      "Academy Dinosaur 2006\n",
      "Ace Goldfinger 2006\n",
      "Adaptation Holes 2006\n",
      "Affair Prejudice 2006\n",
      "African Egg 2006\n",
      "Agent Truman 2006\n"
     ]
    }
   ],
   "source": [
    "for row in session.query(Film.title, Film.release_year, ).limit(10):\n",
    "            print(row.title, row.release_year)"
   ]
  },
  {
   "cell_type": "code",
   "execution_count": 17,
   "id": "documentary-frame",
   "metadata": {},
   "outputs": [
    {
     "data": {
      "text/html": [
       "<div>\n",
       "<style scoped>\n",
       "    .dataframe tbody tr th:only-of-type {\n",
       "        vertical-align: middle;\n",
       "    }\n",
       "\n",
       "    .dataframe tbody tr th {\n",
       "        vertical-align: top;\n",
       "    }\n",
       "\n",
       "    .dataframe thead th {\n",
       "        text-align: right;\n",
       "    }\n",
       "</style>\n",
       "<table border=\"1\" class=\"dataframe\">\n",
       "  <thead>\n",
       "    <tr style=\"text-align: right;\">\n",
       "      <th></th>\n",
       "      <th>Title</th>\n",
       "      <th>rental_rate</th>\n",
       "    </tr>\n",
       "    <tr>\n",
       "      <th>Film_id</th>\n",
       "      <th></th>\n",
       "      <th></th>\n",
       "    </tr>\n",
       "  </thead>\n",
       "  <tbody>\n",
       "    <tr>\n",
       "      <th>336</th>\n",
       "      <td>French Holiday</td>\n",
       "      <td>4.99</td>\n",
       "    </tr>\n",
       "    <tr>\n",
       "      <th>103</th>\n",
       "      <td>Bucket Brotherhood</td>\n",
       "      <td>4.99</td>\n",
       "    </tr>\n",
       "    <tr>\n",
       "      <th>338</th>\n",
       "      <td>Frisco Forrest</td>\n",
       "      <td>4.99</td>\n",
       "    </tr>\n",
       "    <tr>\n",
       "      <th>694</th>\n",
       "      <td>Prejudice Oleander</td>\n",
       "      <td>4.99</td>\n",
       "    </tr>\n",
       "    <tr>\n",
       "      <th>340</th>\n",
       "      <td>Frontier Cabin</td>\n",
       "      <td>4.99</td>\n",
       "    </tr>\n",
       "  </tbody>\n",
       "</table>\n",
       "</div>"
      ],
      "text/plain": [
       "                      Title rental_rate\n",
       "Film_id                                \n",
       "336          French Holiday        4.99\n",
       "103      Bucket Brotherhood        4.99\n",
       "338          Frisco Forrest        4.99\n",
       "694      Prejudice Oleander        4.99\n",
       "340          Frontier Cabin        4.99"
      ]
     },
     "execution_count": 17,
     "metadata": {},
     "output_type": "execute_result"
    }
   ],
   "source": [
    "df = pandas.DataFrame(results[:10], columns=['Film_id', 'Title', 'rental_rate'])\n",
    "df.set_index('Film_id', inplace=True)\n",
    "df.head()"
   ]
  },
  {
   "cell_type": "code",
   "execution_count": null,
   "id": "unable-composition",
   "metadata": {},
   "outputs": [],
   "source": [
    "columns = in"
   ]
  },
  {
   "cell_type": "code",
   "execution_count": null,
   "id": "unauthorized-boutique",
   "metadata": {},
   "outputs": [],
   "source": []
  },
  {
   "cell_type": "code",
   "execution_count": null,
   "id": "intimate-backing",
   "metadata": {},
   "outputs": [],
   "source": []
  }
 ],
 "metadata": {
  "kernelspec": {
   "display_name": "Python 3",
   "language": "python",
   "name": "python3"
  },
  "language_info": {
   "codemirror_mode": {
    "name": "ipython",
    "version": 3
   },
   "file_extension": ".py",
   "mimetype": "text/x-python",
   "name": "python",
   "nbconvert_exporter": "python",
   "pygments_lexer": "ipython3",
   "version": "3.7.9"
  },
  "toc": {
   "base_numbering": 1,
   "nav_menu": {},
   "number_sections": false,
   "sideBar": false,
   "skip_h1_title": false,
   "title_cell": "Table of Contents",
   "title_sidebar": "Contents",
   "toc_cell": false,
   "toc_position": {},
   "toc_section_display": false,
   "toc_window_display": false
  }
 },
 "nbformat": 4,
 "nbformat_minor": 5
}
