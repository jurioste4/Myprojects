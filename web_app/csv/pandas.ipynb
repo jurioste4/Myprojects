{
 "cells": [
  {
   "cell_type": "code",
   "execution_count": 1,
   "metadata": {},
   "outputs": [],
   "source": [
    "import pandas as pd\n",
    "from sqlalchemy.ext.automap import automap_base\n",
    "from sqlalchemy.orm import Session\n",
    "from sqlalchemy import create_engine, MetaData, Table, Column, ForeignKey\n",
    "\n",
    "# engine = create_engine(\"sqlite:///../DB/demo.sqlite\")\n",
    "\n",
    "\n"
   ]
  },
  {
   "cell_type": "code",
   "execution_count": null,
   "metadata": {},
   "outputs": [],
   "source": [
    "print (engine.table_names())"
   ]
  },
  {
   "cell_type": "code",
   "execution_count": null,
   "metadata": {},
   "outputs": [],
   "source": [
    "metadata =MetaData()"
   ]
  },
  {
   "cell_type": "code",
   "execution_count": null,
   "metadata": {},
   "outputs": [],
   "source": [
    "metadata.reflect(engine, only=['china'])"
   ]
  },
  {
   "cell_type": "code",
   "execution_count": null,
   "metadata": {},
   "outputs": [],
   "source": [
    "Base = automap_base(metadata=metadata)"
   ]
  },
  {
   "cell_type": "code",
   "execution_count": null,
   "metadata": {},
   "outputs": [],
   "source": [
    "Base.prepare()"
   ]
  },
  {
   "cell_type": "code",
   "execution_count": null,
   "metadata": {},
   "outputs": [],
   "source": [
    "china = Base.classes.china"
   ]
  },
  {
   "cell_type": "code",
   "execution_count": 2,
   "metadata": {},
   "outputs": [
    {
     "data": {
      "text/html": [
       "<div>\n",
       "<style scoped>\n",
       "    .dataframe tbody tr th:only-of-type {\n",
       "        vertical-align: middle;\n",
       "    }\n",
       "\n",
       "    .dataframe tbody tr th {\n",
       "        vertical-align: top;\n",
       "    }\n",
       "\n",
       "    .dataframe thead th {\n",
       "        text-align: right;\n",
       "    }\n",
       "</style>\n",
       "<table border=\"1\" class=\"dataframe\">\n",
       "  <thead>\n",
       "    <tr style=\"text-align: right;\">\n",
       "      <th></th>\n",
       "      <th>Year</th>\n",
       "      <th>GDP</th>\n",
       "      <th>Growth</th>\n",
       "      <th>Inflation</th>\n",
       "      <th>UR</th>\n",
       "      <th>EXR_(CNY_per_USD)</th>\n",
       "      <th>Population</th>\n",
       "      <th>Avg_Age_population</th>\n",
       "      <th>Households_number</th>\n",
       "      <th>Consumer_Expenditure</th>\n",
       "      <th>Internet_Users</th>\n",
       "    </tr>\n",
       "  </thead>\n",
       "  <tbody>\n",
       "    <tr>\n",
       "      <th>0</th>\n",
       "      <td>2013</td>\n",
       "      <td>9570302.2</td>\n",
       "      <td>7.8</td>\n",
       "      <td>2.6</td>\n",
       "      <td>3.0</td>\n",
       "      <td>6.2</td>\n",
       "      <td>1354040.0</td>\n",
       "      <td>37.1</td>\n",
       "      <td>438932.8</td>\n",
       "      <td>3562699.2</td>\n",
       "      <td>584026.3</td>\n",
       "    </tr>\n",
       "    <tr>\n",
       "      <th>1</th>\n",
       "      <td>2014</td>\n",
       "      <td>10439965.5</td>\n",
       "      <td>7.3</td>\n",
       "      <td>1.9</td>\n",
       "      <td>3.1</td>\n",
       "      <td>6.1</td>\n",
       "      <td>1360720.0</td>\n",
       "      <td>37.4</td>\n",
       "      <td>445821.0</td>\n",
       "      <td>3943565.5</td>\n",
       "      <td>612755.9</td>\n",
       "    </tr>\n",
       "    <tr>\n",
       "      <th>2</th>\n",
       "      <td>2015</td>\n",
       "      <td>11015504.9</td>\n",
       "      <td>6.9</td>\n",
       "      <td>1.4</td>\n",
       "      <td>3.3</td>\n",
       "      <td>6.2</td>\n",
       "      <td>1367820.0</td>\n",
       "      <td>37.6</td>\n",
       "      <td>452778.1</td>\n",
       "      <td>4256794.1</td>\n",
       "      <td>645814.2</td>\n",
       "    </tr>\n",
       "    <tr>\n",
       "      <th>3</th>\n",
       "      <td>2016</td>\n",
       "      <td>11138042.2</td>\n",
       "      <td>6.7</td>\n",
       "      <td>2.0</td>\n",
       "      <td>3.6</td>\n",
       "      <td>6.6</td>\n",
       "      <td>1374620.0</td>\n",
       "      <td>37.8</td>\n",
       "      <td>459551.8</td>\n",
       "      <td>4408443.4</td>\n",
       "      <td>684987.1</td>\n",
       "    </tr>\n",
       "    <tr>\n",
       "      <th>4</th>\n",
       "      <td>2017</td>\n",
       "      <td>12143201.1</td>\n",
       "      <td>6.9</td>\n",
       "      <td>1.6</td>\n",
       "      <td>3.7</td>\n",
       "      <td>6.8</td>\n",
       "      <td>1382710.0</td>\n",
       "      <td>38.0</td>\n",
       "      <td>466786.8</td>\n",
       "      <td>4697194.9</td>\n",
       "      <td>702685.6</td>\n",
       "    </tr>\n",
       "    <tr>\n",
       "      <th>5</th>\n",
       "      <td>2018</td>\n",
       "      <td>13608151.9</td>\n",
       "      <td>6.6</td>\n",
       "      <td>2.1</td>\n",
       "      <td>3.9</td>\n",
       "      <td>6.6</td>\n",
       "      <td>1390080.0</td>\n",
       "      <td>38.2</td>\n",
       "      <td>473844.2</td>\n",
       "      <td>5313865.1</td>\n",
       "      <td>756755.4</td>\n",
       "    </tr>\n",
       "  </tbody>\n",
       "</table>\n",
       "</div>"
      ],
      "text/plain": [
       "   Year         GDP  Growth  Inflation   UR  EXR_(CNY_per_USD)  Population  \\\n",
       "0  2013   9570302.2     7.8        2.6  3.0                6.2   1354040.0   \n",
       "1  2014  10439965.5     7.3        1.9  3.1                6.1   1360720.0   \n",
       "2  2015  11015504.9     6.9        1.4  3.3                6.2   1367820.0   \n",
       "3  2016  11138042.2     6.7        2.0  3.6                6.6   1374620.0   \n",
       "4  2017  12143201.1     6.9        1.6  3.7                6.8   1382710.0   \n",
       "5  2018  13608151.9     6.6        2.1  3.9                6.6   1390080.0   \n",
       "\n",
       "   Avg_Age_population  Households_number  Consumer_Expenditure  Internet_Users  \n",
       "0                37.1           438932.8             3562699.2        584026.3  \n",
       "1                37.4           445821.0             3943565.5        612755.9  \n",
       "2                37.6           452778.1             4256794.1        645814.2  \n",
       "3                37.8           459551.8             4408443.4        684987.1  \n",
       "4                38.0           466786.8             4697194.9        702685.6  \n",
       "5                38.2           473844.2             5313865.1        756755.4  "
      ]
     },
     "execution_count": 2,
     "metadata": {},
     "output_type": "execute_result"
    }
   ],
   "source": [
    "path = \"china.csv\"\n",
    "df = pd.read_csv(path)\n",
    "# df_uk = pd.read_csv(path)\n",
    "\n",
    "# df_copy = df.copy()\n",
    "\n",
    "# df_copy.head(10)\n",
    "# df = df.drop(columns=['Unnamed: 0'])\n",
    "df"
   ]
  },
  {
   "cell_type": "code",
   "execution_count": 3,
   "metadata": {},
   "outputs": [],
   "source": [
    "df.rename( columns= {'EXR_(CNY_per_USD)': 'ER'}, inplace=True)"
   ]
  },
  {
   "cell_type": "code",
   "execution_count": 4,
   "metadata": {},
   "outputs": [
    {
     "data": {
      "text/html": [
       "<div>\n",
       "<style scoped>\n",
       "    .dataframe tbody tr th:only-of-type {\n",
       "        vertical-align: middle;\n",
       "    }\n",
       "\n",
       "    .dataframe tbody tr th {\n",
       "        vertical-align: top;\n",
       "    }\n",
       "\n",
       "    .dataframe thead th {\n",
       "        text-align: right;\n",
       "    }\n",
       "</style>\n",
       "<table border=\"1\" class=\"dataframe\">\n",
       "  <thead>\n",
       "    <tr style=\"text-align: right;\">\n",
       "      <th></th>\n",
       "      <th>Year</th>\n",
       "      <th>GDP</th>\n",
       "      <th>Growth</th>\n",
       "      <th>Inflation</th>\n",
       "      <th>UR</th>\n",
       "      <th>ER</th>\n",
       "      <th>Population</th>\n",
       "      <th>Avg_Age_population</th>\n",
       "      <th>Households_number</th>\n",
       "      <th>Consumer_Expenditure</th>\n",
       "      <th>Internet_Users</th>\n",
       "    </tr>\n",
       "  </thead>\n",
       "  <tbody>\n",
       "    <tr>\n",
       "      <th>0</th>\n",
       "      <td>2013</td>\n",
       "      <td>9570302.2</td>\n",
       "      <td>7.8</td>\n",
       "      <td>2.6</td>\n",
       "      <td>3.0</td>\n",
       "      <td>6.2</td>\n",
       "      <td>1354040.0</td>\n",
       "      <td>37.1</td>\n",
       "      <td>438932.8</td>\n",
       "      <td>3562699.2</td>\n",
       "      <td>584026.3</td>\n",
       "    </tr>\n",
       "    <tr>\n",
       "      <th>1</th>\n",
       "      <td>2014</td>\n",
       "      <td>10439965.5</td>\n",
       "      <td>7.3</td>\n",
       "      <td>1.9</td>\n",
       "      <td>3.1</td>\n",
       "      <td>6.1</td>\n",
       "      <td>1360720.0</td>\n",
       "      <td>37.4</td>\n",
       "      <td>445821.0</td>\n",
       "      <td>3943565.5</td>\n",
       "      <td>612755.9</td>\n",
       "    </tr>\n",
       "    <tr>\n",
       "      <th>2</th>\n",
       "      <td>2015</td>\n",
       "      <td>11015504.9</td>\n",
       "      <td>6.9</td>\n",
       "      <td>1.4</td>\n",
       "      <td>3.3</td>\n",
       "      <td>6.2</td>\n",
       "      <td>1367820.0</td>\n",
       "      <td>37.6</td>\n",
       "      <td>452778.1</td>\n",
       "      <td>4256794.1</td>\n",
       "      <td>645814.2</td>\n",
       "    </tr>\n",
       "    <tr>\n",
       "      <th>3</th>\n",
       "      <td>2016</td>\n",
       "      <td>11138042.2</td>\n",
       "      <td>6.7</td>\n",
       "      <td>2.0</td>\n",
       "      <td>3.6</td>\n",
       "      <td>6.6</td>\n",
       "      <td>1374620.0</td>\n",
       "      <td>37.8</td>\n",
       "      <td>459551.8</td>\n",
       "      <td>4408443.4</td>\n",
       "      <td>684987.1</td>\n",
       "    </tr>\n",
       "    <tr>\n",
       "      <th>4</th>\n",
       "      <td>2017</td>\n",
       "      <td>12143201.1</td>\n",
       "      <td>6.9</td>\n",
       "      <td>1.6</td>\n",
       "      <td>3.7</td>\n",
       "      <td>6.8</td>\n",
       "      <td>1382710.0</td>\n",
       "      <td>38.0</td>\n",
       "      <td>466786.8</td>\n",
       "      <td>4697194.9</td>\n",
       "      <td>702685.6</td>\n",
       "    </tr>\n",
       "    <tr>\n",
       "      <th>5</th>\n",
       "      <td>2018</td>\n",
       "      <td>13608151.9</td>\n",
       "      <td>6.6</td>\n",
       "      <td>2.1</td>\n",
       "      <td>3.9</td>\n",
       "      <td>6.6</td>\n",
       "      <td>1390080.0</td>\n",
       "      <td>38.2</td>\n",
       "      <td>473844.2</td>\n",
       "      <td>5313865.1</td>\n",
       "      <td>756755.4</td>\n",
       "    </tr>\n",
       "  </tbody>\n",
       "</table>\n",
       "</div>"
      ],
      "text/plain": [
       "   Year         GDP  Growth  Inflation   UR   ER  Population  \\\n",
       "0  2013   9570302.2     7.8        2.6  3.0  6.2   1354040.0   \n",
       "1  2014  10439965.5     7.3        1.9  3.1  6.1   1360720.0   \n",
       "2  2015  11015504.9     6.9        1.4  3.3  6.2   1367820.0   \n",
       "3  2016  11138042.2     6.7        2.0  3.6  6.6   1374620.0   \n",
       "4  2017  12143201.1     6.9        1.6  3.7  6.8   1382710.0   \n",
       "5  2018  13608151.9     6.6        2.1  3.9  6.6   1390080.0   \n",
       "\n",
       "   Avg_Age_population  Households_number  Consumer_Expenditure  Internet_Users  \n",
       "0                37.1           438932.8             3562699.2        584026.3  \n",
       "1                37.4           445821.0             3943565.5        612755.9  \n",
       "2                37.6           452778.1             4256794.1        645814.2  \n",
       "3                37.8           459551.8             4408443.4        684987.1  \n",
       "4                38.0           466786.8             4697194.9        702685.6  \n",
       "5                38.2           473844.2             5313865.1        756755.4  "
      ]
     },
     "execution_count": 4,
     "metadata": {},
     "output_type": "execute_result"
    }
   ],
   "source": [
    "# df.rename( columns= { 'GDP (Mil)': 'GDP',\n",
    "#                        'GDP Growth (%)': 'Growth', \n",
    "#                        'Inflation (%)': 'Inflation',\n",
    "#                       'UR (% econ active pop)': 'UR',\n",
    "#                       'Exchange Rates Against US Dollar (USD per USD)': 'ER',\n",
    "#                       \"Total Population ('000)\": 'Population',\n",
    "#                       'Median Age of Population (years)': 'Avg_Age_population' ,\n",
    "#                        \"Number of Households ('000)\": \"Households_number\",\n",
    "#                        'Consumer Expenditure (USD million)': 'Consumer_Expenditure',\n",
    "#                        \"Internet Users ('000)\": 'Internet_Users',\n",
    "#                     'Exchange Rates Against US Dollar (CNY per USD)': 'EXR_(CNY_per_USD)'},inplace=True)\n",
    "df"
   ]
  },
  {
   "cell_type": "code",
   "execution_count": null,
   "metadata": {},
   "outputs": [],
   "source": [
    "df.to_csv(\"china.csv\")"
   ]
  },
  {
   "cell_type": "code",
   "execution_count": null,
   "metadata": {},
   "outputs": [],
   "source": [
    "print (df.columns.values )"
   ]
  },
  {
   "cell_type": "code",
   "execution_count": null,
   "metadata": {},
   "outputs": [],
   "source": [
    "# print(df_copy.dtypes)\n",
    "df_copy"
   ]
  },
  {
   "cell_type": "code",
   "execution_count": null,
   "metadata": {},
   "outputs": [],
   "source": [
    "df_copy[\"Year\"] = pd.to_datetime(df_copy[['Year','Day', 'month']])"
   ]
  },
  {
   "cell_type": "code",
   "execution_count": null,
   "metadata": {},
   "outputs": [],
   "source": [
    "# print(df_copy.index.name)\n",
    "df_copy"
   ]
  },
  {
   "cell_type": "code",
   "execution_count": null,
   "metadata": {},
   "outputs": [],
   "source": [
    "df_c = df_copy.transpose()\n",
    "df_c\n",
    "# print(df_copy.columns.values)"
   ]
  },
  {
   "cell_type": "code",
   "execution_count": null,
   "metadata": {},
   "outputs": [],
   "source": [
    "df_c.reset_index(inplace=True)\n"
   ]
  },
  {
   "cell_type": "code",
   "execution_count": null,
   "metadata": {},
   "outputs": [],
   "source": [
    "df_c.head(10)"
   ]
  },
  {
   "cell_type": "code",
   "execution_count": null,
   "metadata": {},
   "outputs": [],
   "source": [
    "# print(df_c.index)\n",
    "list(df.columns.values)"
   ]
  },
  {
   "cell_type": "code",
   "execution_count": null,
   "metadata": {},
   "outputs": [],
   "source": [
    "df_c.rename( columns= {'index': 'Year', 'GDP (USD million)': 'GDP (Mil)'}, inplace=True)\n",
    "df_c"
   ]
  },
  {
   "cell_type": "code",
   "execution_count": null,
   "metadata": {},
   "outputs": [],
   "source": [
    "\n",
    "print (df_c.columns.values )\n"
   ]
  },
  {
   "cell_type": "code",
   "execution_count": null,
   "metadata": {},
   "outputs": [],
   "source": [
    "df_c.set_index('Year')"
   ]
  },
  {
   "cell_type": "code",
   "execution_count": null,
   "metadata": {},
   "outputs": [],
   "source": [
    "print (df_c.columns.values )"
   ]
  },
  {
   "cell_type": "code",
   "execution_count": null,
   "metadata": {},
   "outputs": [],
   "source": []
  }
 ],
 "metadata": {
  "kernelspec": {
   "display_name": "Python 3",
   "language": "python",
   "name": "python3"
  },
  "language_info": {
   "codemirror_mode": {
    "name": "ipython",
    "version": 3
   },
   "file_extension": ".py",
   "mimetype": "text/x-python",
   "name": "python",
   "nbconvert_exporter": "python",
   "pygments_lexer": "ipython3",
   "version": "3.7.3"
  }
 },
 "nbformat": 4,
 "nbformat_minor": 2
}
