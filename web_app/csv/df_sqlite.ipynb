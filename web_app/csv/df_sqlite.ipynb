{
 "cells": [
  {
   "cell_type": "code",
   "execution_count": 1,
   "metadata": {},
   "outputs": [],
   "source": [
    "from sqlalchemy import Column, Integer, Float, Date, String, VARCHAR\n",
    "from sqlalchemy.ext.declarative import declarative_base\n",
    "from sqlalchemy import create_engine\n",
    "from sqlalchemy.orm import sessionmaker\n",
    "from sqlalchemy.orm import Session\n",
    "import csv\n",
    "import pandas as pd\n",
    "\n",
    "\n",
    "Base = declarative_base()"
   ]
  },
  {
   "cell_type": "code",
   "execution_count": 5,
   "metadata": {},
   "outputs": [],
   "source": [
    "engine = create_engine(\"sqlite:///../DB/countrytwo.sqlite\")\n",
    "# Base.metadata.create_all(engine)"
   ]
  },
  {
   "cell_type": "code",
   "execution_count": null,
   "metadata": {},
   "outputs": [],
   "source": [
    "file_name = 'china.csv'\n",
    "df=pd.read_csv(file_name)\n",
    "df.to_sql('china',con=engine)"
   ]
  },
  {
   "cell_type": "code",
   "execution_count": null,
   "metadata": {},
   "outputs": [],
   "source": []
  },
  {
   "cell_type": "code",
   "execution_count": 6,
   "metadata": {},
   "outputs": [
    {
     "name": "stdout",
     "output_type": "stream",
     "text": [
      "['china', 'usa']\n"
     ]
    }
   ],
   "source": [
    "print (engine.table_names())"
   ]
  },
  {
   "cell_type": "code",
   "execution_count": 10,
   "metadata": {},
   "outputs": [],
   "source": [
    "conn = engine.connect()\n",
    "data = pd.read_sql(\"SELECT * FROM usa\", conn)"
   ]
  },
  {
   "cell_type": "code",
   "execution_count": 11,
   "metadata": {},
   "outputs": [
    {
     "data": {
      "text/html": [
       "<div>\n",
       "<style scoped>\n",
       "    .dataframe tbody tr th:only-of-type {\n",
       "        vertical-align: middle;\n",
       "    }\n",
       "\n",
       "    .dataframe tbody tr th {\n",
       "        vertical-align: top;\n",
       "    }\n",
       "\n",
       "    .dataframe thead th {\n",
       "        text-align: right;\n",
       "    }\n",
       "</style>\n",
       "<table border=\"1\" class=\"dataframe\">\n",
       "  <thead>\n",
       "    <tr style=\"text-align: right;\">\n",
       "      <th></th>\n",
       "      <th>id</th>\n",
       "      <th>year</th>\n",
       "      <th>GDP</th>\n",
       "      <th>Growth</th>\n",
       "      <th>Inflation</th>\n",
       "      <th>UR</th>\n",
       "      <th>ER</th>\n",
       "      <th>Population</th>\n",
       "      <th>Avg_Age_population</th>\n",
       "      <th>Households_number</th>\n",
       "      <th>Consumer_Expenditure</th>\n",
       "      <th>Internet_Users</th>\n",
       "    </tr>\n",
       "  </thead>\n",
       "  <tbody>\n",
       "    <tr>\n",
       "      <th>0</th>\n",
       "      <td>0</td>\n",
       "      <td>2013</td>\n",
       "      <td>16784851.0</td>\n",
       "      <td>1.8</td>\n",
       "      <td>1.5</td>\n",
       "      <td>7.4</td>\n",
       "      <td>1</td>\n",
       "      <td>316234.5</td>\n",
       "      <td>37.6</td>\n",
       "      <td>122459.0</td>\n",
       "      <td>11015084.2</td>\n",
       "      <td>211614.3</td>\n",
       "    </tr>\n",
       "    <tr>\n",
       "      <th>1</th>\n",
       "      <td>1</td>\n",
       "      <td>2014</td>\n",
       "      <td>17527258.3</td>\n",
       "      <td>2.5</td>\n",
       "      <td>1.6</td>\n",
       "      <td>6.2</td>\n",
       "      <td>1</td>\n",
       "      <td>318622.5</td>\n",
       "      <td>37.7</td>\n",
       "      <td>123229.0</td>\n",
       "      <td>11509306.2</td>\n",
       "      <td>218081.1</td>\n",
       "    </tr>\n",
       "    <tr>\n",
       "      <th>2</th>\n",
       "      <td>2</td>\n",
       "      <td>2015</td>\n",
       "      <td>18224780.3</td>\n",
       "      <td>2.9</td>\n",
       "      <td>0.1</td>\n",
       "      <td>5.3</td>\n",
       "      <td>1</td>\n",
       "      <td>321039.8</td>\n",
       "      <td>37.8</td>\n",
       "      <td>124587.0</td>\n",
       "      <td>11975445.7</td>\n",
       "      <td>224496.5</td>\n",
       "    </tr>\n",
       "    <tr>\n",
       "      <th>3</th>\n",
       "      <td>3</td>\n",
       "      <td>2016</td>\n",
       "      <td>18715040.5</td>\n",
       "      <td>1.6</td>\n",
       "      <td>1.3</td>\n",
       "      <td>4.9</td>\n",
       "      <td>1</td>\n",
       "      <td>323405.9</td>\n",
       "      <td>37.9</td>\n",
       "      <td>125819.0</td>\n",
       "      <td>12403157.7</td>\n",
       "      <td>259594.6</td>\n",
       "    </tr>\n",
       "    <tr>\n",
       "      <th>4</th>\n",
       "      <td>4</td>\n",
       "      <td>2017</td>\n",
       "      <td>19519423.5</td>\n",
       "      <td>2.4</td>\n",
       "      <td>2.1</td>\n",
       "      <td>4.3</td>\n",
       "      <td>1</td>\n",
       "      <td>325719.2</td>\n",
       "      <td>38.1</td>\n",
       "      <td>126224.0</td>\n",
       "      <td>12948036.6</td>\n",
       "      <td>266839.5</td>\n",
       "    </tr>\n",
       "  </tbody>\n",
       "</table>\n",
       "</div>"
      ],
      "text/plain": [
       "   id  year         GDP  Growth  Inflation   UR  ER  Population  \\\n",
       "0   0  2013  16784851.0     1.8        1.5  7.4   1    316234.5   \n",
       "1   1  2014  17527258.3     2.5        1.6  6.2   1    318622.5   \n",
       "2   2  2015  18224780.3     2.9        0.1  5.3   1    321039.8   \n",
       "3   3  2016  18715040.5     1.6        1.3  4.9   1    323405.9   \n",
       "4   4  2017  19519423.5     2.4        2.1  4.3   1    325719.2   \n",
       "\n",
       "   Avg_Age_population  Households_number  Consumer_Expenditure  Internet_Users  \n",
       "0                37.6           122459.0            11015084.2        211614.3  \n",
       "1                37.7           123229.0            11509306.2        218081.1  \n",
       "2                37.8           124587.0            11975445.7        224496.5  \n",
       "3                37.9           125819.0            12403157.7        259594.6  \n",
       "4                38.1           126224.0            12948036.6        266839.5  "
      ]
     },
     "execution_count": 11,
     "metadata": {},
     "output_type": "execute_result"
    }
   ],
   "source": [
    "data.head()"
   ]
  },
  {
   "cell_type": "code",
   "execution_count": 12,
   "metadata": {},
   "outputs": [
    {
     "data": {
      "text/plain": [
       "['china', 'usa']"
      ]
     },
     "execution_count": 12,
     "metadata": {},
     "output_type": "execute_result"
    }
   ],
   "source": [
    "from sqlalchemy.ext.automap import automap_base\n",
    "Base = automap_base()\n",
    "Base.prepare(engine, reflect=True)\n",
    "Base.classes.keys()"
   ]
  },
  {
   "cell_type": "code",
   "execution_count": null,
   "metadata": {},
   "outputs": [],
   "source": []
  }
 ],
 "metadata": {
  "kernelspec": {
   "display_name": "Python 3",
   "language": "python",
   "name": "python3"
  },
  "language_info": {
   "codemirror_mode": {
    "name": "ipython",
    "version": 3
   },
   "file_extension": ".py",
   "mimetype": "text/x-python",
   "name": "python",
   "nbconvert_exporter": "python",
   "pygments_lexer": "ipython3",
   "version": "3.7.5"
  }
 },
 "nbformat": 4,
 "nbformat_minor": 2
}
