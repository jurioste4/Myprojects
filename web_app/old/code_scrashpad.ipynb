{
 "cells": [
  {
   "cell_type": "code",
   "execution_count": 1,
   "metadata": {},
   "outputs": [],
   "source": [
    "import pandas as pd\n",
    "import json\n",
    "import numpy as np\n",
    "import plotly\n",
    "import plotly.graph_objs as go\n",
    "import sqlalchemy\n",
    "from sqlalchemy.ext.automap import automap_base\n",
    "from sqlalchemy.orm import Session\n",
    "from sqlalchemy import create_engine\n",
    "from sqlalchemy import func"
   ]
  },
  {
   "cell_type": "code",
   "execution_count": 2,
   "metadata": {},
   "outputs": [],
   "source": [
    "engine = create_engine('sqlite:///app/db/country.db', echo=False)"
   ]
  },
  {
   "cell_type": "code",
   "execution_count": 3,
   "metadata": {},
   "outputs": [],
   "source": [
    "session = Session(engine)\n"
   ]
  },
  {
   "cell_type": "code",
   "execution_count": null,
   "metadata": {},
   "outputs": [],
   "source": [
    "results = engine.execute('SELECT country,UR,Growth,inflation,ER FROM country where Year in (\"2014\")')"
   ]
  },
  {
   "cell_type": "code",
   "execution_count": null,
   "metadata": {},
   "outputs": [],
   "source": []
  },
  {
   "cell_type": "code",
   "execution_count": null,
   "metadata": {},
   "outputs": [],
   "source": [
    "df = pd.DataFrame(results, columns=['country','UR','Growth','inflation','ER'])\n"
   ]
  },
  {
   "cell_type": "code",
   "execution_count": null,
   "metadata": {},
   "outputs": [],
   "source": [
    "fourteen = df.to_dict('records')\n",
    "print(\"Year 2014:\")\n",
    "print(fourteen)"
   ]
  },
  {
   "cell_type": "code",
   "execution_count": 8,
   "metadata": {},
   "outputs": [
    {
     "ename": "NameError",
     "evalue": "name 'country' is not defined",
     "output_type": "error",
     "traceback": [
      "\u001b[0;31m---------------------------------------------------------------------------\u001b[0m",
      "\u001b[0;31mNameError\u001b[0m                                 Traceback (most recent call last)",
      "\u001b[0;32m<ipython-input-8-9743f33ef007>\u001b[0m in \u001b[0;36m<module>\u001b[0;34m\u001b[0m\n\u001b[0;32m----> 1\u001b[0;31m \u001b[0mreport\u001b[0m \u001b[0;34m=\u001b[0m \u001b[0mcountry\u001b[0m\u001b[0;34m.\u001b[0m\u001b[0mquery\u001b[0m\u001b[0;34m.\u001b[0m\u001b[0morder_by\u001b[0m\u001b[0;34m(\u001b[0m\u001b[0mcountry\u001b[0m\u001b[0;34m.\u001b[0m\u001b[0mcountry\u001b[0m\u001b[0;34m)\u001b[0m\u001b[0;34m.\u001b[0m\u001b[0mall\u001b[0m\u001b[0;34m(\u001b[0m\u001b[0;34m)\u001b[0m\u001b[0;34m\u001b[0m\u001b[0;34m\u001b[0m\u001b[0m\n\u001b[0m\u001b[1;32m      2\u001b[0m \u001b[0;32mfor\u001b[0m \u001b[0mcountry\u001b[0m \u001b[0;32min\u001b[0m \u001b[0mreport\u001b[0m\u001b[0;34m:\u001b[0m\u001b[0;34m\u001b[0m\u001b[0;34m\u001b[0m\u001b[0m\n\u001b[1;32m      3\u001b[0m     \u001b[0mprint\u001b[0m\u001b[0;34m(\u001b[0m\u001b[0;34mf'{country}'\u001b[0m\u001b[0;34m)\u001b[0m\u001b[0;34m\u001b[0m\u001b[0;34m\u001b[0m\u001b[0m\n",
      "\u001b[0;31mNameError\u001b[0m: name 'country' is not defined"
     ]
    }
   ],
   "source": [
    "report = country.query.order_by(country.country).all()\n",
    "for country in report:\n",
    "    print(f'{country}')"
   ]
  },
  {
   "cell_type": "code",
   "execution_count": null,
   "metadata": {},
   "outputs": [],
   "source": [
    "test  = session.query(country).all()\n",
    "test_df = pd.DataFrame(test)\n"
   ]
  },
  {
   "cell_type": "code",
   "execution_count": null,
   "metadata": {},
   "outputs": [],
   "source": [
    "test_df.head()"
   ]
  },
  {
   "cell_type": "code",
   "execution_count": null,
   "metadata": {},
   "outputs": [],
   "source": [
    "china = test_df.loc[test_df[\"country\"]==\"china\",:]\n",
    "usa = test_df.loc[test_df[\"country\"]==\"usa\",:]"
   ]
  },
  {
   "cell_type": "code",
   "execution_count": null,
   "metadata": {},
   "outputs": [],
   "source": []
  },
  {
   "cell_type": "code",
   "execution_count": null,
   "metadata": {},
   "outputs": [],
   "source": [
    "fig = go.Figure()\n",
    "fig.add_trace(go.Scatter(x=usa['Year'], y=usa['Growth']))"
   ]
  },
  {
   "cell_type": "code",
   "execution_count": null,
   "metadata": {},
   "outputs": [],
   "source": [
    "session = Session(engine)"
   ]
  },
  {
   "cell_type": "code",
   "execution_count": 7,
   "metadata": {},
   "outputs": [
    {
     "ename": "NameError",
     "evalue": "name 'country' is not defined",
     "output_type": "error",
     "traceback": [
      "\u001b[0;31m---------------------------------------------------------------------------\u001b[0m",
      "\u001b[0;31mNameError\u001b[0m                                 Traceback (most recent call last)",
      "\u001b[0;32m<ipython-input-7-5cf54c82c19e>\u001b[0m in \u001b[0;36m<module>\u001b[0;34m\u001b[0m\n\u001b[0;32m----> 1\u001b[0;31m \u001b[0mresults\u001b[0m \u001b[0;34m=\u001b[0m \u001b[0msession\u001b[0m\u001b[0;34m.\u001b[0m\u001b[0mquery\u001b[0m\u001b[0;34m(\u001b[0m\u001b[0mcountry\u001b[0m\u001b[0;34m.\u001b[0m\u001b[0mYear\u001b[0m\u001b[0;34m)\u001b[0m\u001b[0;34m.\u001b[0m\u001b[0mall\u001b[0m\u001b[0;34m(\u001b[0m\u001b[0;34m)\u001b[0m\u001b[0;34m\u001b[0m\u001b[0;34m\u001b[0m\u001b[0m\n\u001b[0m\u001b[1;32m      2\u001b[0m \u001b[0mdf\u001b[0m \u001b[0;34m=\u001b[0m \u001b[0mpd\u001b[0m\u001b[0;34m.\u001b[0m\u001b[0mread_sql\u001b[0m\u001b[0;34m(\u001b[0m\u001b[0mresults\u001b[0m\u001b[0;34m)\u001b[0m\u001b[0;34m\u001b[0m\u001b[0;34m\u001b[0m\u001b[0m\n\u001b[1;32m      3\u001b[0m \u001b[0mprint\u001b[0m\u001b[0;34m(\u001b[0m\u001b[0mdf\u001b[0m\u001b[0;34m)\u001b[0m\u001b[0;34m\u001b[0m\u001b[0;34m\u001b[0m\u001b[0m\n",
      "\u001b[0;31mNameError\u001b[0m: name 'country' is not defined"
     ]
    }
   ],
   "source": [
    "results = session.query(country.Year).all()\n",
    "df = pd.read_sql(results)\n",
    "print(df)"
   ]
  },
  {
   "cell_type": "code",
   "execution_count": 4,
   "metadata": {},
   "outputs": [
    {
     "data": {
      "text/plain": [
       "['country']"
      ]
     },
     "execution_count": 4,
     "metadata": {},
     "output_type": "execute_result"
    }
   ],
   "source": [
    "Base = automap_base()\n",
    "Base.prepare(engine, reflect=True)\n",
    "Base.classes.keys()"
   ]
  },
  {
   "cell_type": "code",
   "execution_count": null,
   "metadata": {},
   "outputs": [],
   "source": []
  },
  {
   "cell_type": "code",
   "execution_count": 9,
   "metadata": {},
   "outputs": [],
   "source": [
    "country = Base.classes.country\n",
    "# singapore = Base.class.singapore"
   ]
  },
  {
   "cell_type": "code",
   "execution_count": null,
   "metadata": {},
   "outputs": [],
   "source": []
  },
  {
   "cell_type": "code",
   "execution_count": 16,
   "metadata": {},
   "outputs": [
    {
     "data": {
      "text/plain": [
       "[('2013', 7.8, 2.6),\n",
       " ('2014', 7.3, 1.9),\n",
       " ('2015', 6.9, 1.4),\n",
       " ('2016', 6.7, 2),\n",
       " ('2017', 6.9, 1.6),\n",
       " ('2018', 6.6, 2.1),\n",
       " ('2014', 2.5, 1.6),\n",
       " ('2015', 2.9, 0.1),\n",
       " ('2016', 1.6, 1.3),\n",
       " ('2017', 2.4, 2.1),\n",
       " ('2018', 2.9, 2.4),\n",
       " ('2019', 2.3, 1.8),\n",
       " ('2014', 3.9, 1),\n",
       " ('2015', 2.9, -0.5),\n",
       " ('2016', 3, -0.5),\n",
       " ('2017', 3.7, 0.6),\n",
       " ('2018', 3.1, 0.4),\n",
       " ('2019', 0.7, 0.6),\n",
       " ('2013', 0.6, 0.9),\n",
       " ('2014', 1, 0.5),\n",
       " ('2015', 1.1, 0),\n",
       " ('2016', 1.1, 0.2),\n",
       " ('2017', 2.3, 1),\n",
       " ('2018', 1.7, 1.9),\n",
       " ('2013', 2.1, 2.6),\n",
       " ('2014', 2.6, 1.5),\n",
       " ('2015', 2.4, 0.1),\n",
       " ('2016', 1.9, 0.6),\n",
       " ('2017', 1.9, 2.7),\n",
       " ('2018', 1.4, 2.5)]"
      ]
     },
     "execution_count": 16,
     "metadata": {},
     "output_type": "execute_result"
    }
   ],
   "source": [
    "session.query(country.Year,country.Growth,country.Inflation).all()\n"
   ]
  },
  {
   "cell_type": "code",
   "execution_count": null,
   "metadata": {},
   "outputs": [],
   "source": [
    "session.query(usa.Year, usa.UR , usa.Growth).all()"
   ]
  },
  {
   "cell_type": "code",
   "execution_count": null,
   "metadata": {},
   "outputs": [],
   "source": [
    "for row in session.query(usa.Year, usa.UR , usa.Growth).all():\n",
    "    print(row)"
   ]
  },
  {
   "cell_type": "code",
   "execution_count": 17,
   "metadata": {},
   "outputs": [
    {
     "name": "stdout",
     "output_type": "stream",
     "text": [
      "[{'Year': '2013', 'UR': 3, 'Growth': 7.8}, {'Year': '2014', 'UR': 3.1, 'Growth': 7.3}, {'Year': '2015', 'UR': 3.3, 'Growth': 6.9}, {'Year': '2016', 'UR': 3.6, 'Growth': 6.7}, {'Year': '2017', 'UR': 3.7, 'Growth': 6.9}, {'Year': '2018', 'UR': 3.9, 'Growth': 6.6}, {'Year': '2014', 'UR': 6.2, 'Growth': 2.5}, {'Year': '2015', 'UR': 5.3, 'Growth': 2.9}, {'Year': '2016', 'UR': 4.9, 'Growth': 1.6}, {'Year': '2017', 'UR': 4.3, 'Growth': 2.4}, {'Year': '2018', 'UR': 3.9, 'Growth': 2.9}, {'Year': '2019', 'UR': 3.7, 'Growth': 2.3}, {'Year': '2014', 'UR': 1.9, 'Growth': 3.9}, {'Year': '2015', 'UR': 1.9, 'Growth': 2.9}, {'Year': '2016', 'UR': 2.1, 'Growth': 3}, {'Year': '2017', 'UR': 2.2, 'Growth': 3.7}, {'Year': '2018', 'UR': 2.1, 'Growth': 3.1}, {'Year': '2019', 'UR': 2.3, 'Growth': 0.7}, {'Year': '2013', 'UR': 10.3, 'Growth': 0.6}, {'Year': '2014', 'UR': 10.3, 'Growth': 1}, {'Year': '2015', 'UR': 10.4, 'Growth': 1.1}, {'Year': '2016', 'UR': 10.1, 'Growth': 1.1}, {'Year': '2017', 'UR': 9.4, 'Growth': 2.3}, {'Year': '2018', 'UR': 9.1, 'Growth': 1.7}, {'Year': '2013', 'UR': 7.6, 'Growth': 2.1}, {'Year': '2014', 'UR': 6.2, 'Growth': 2.6}, {'Year': '2015', 'UR': 5.4, 'Growth': 2.4}, {'Year': '2016', 'UR': 4.9, 'Growth': 1.9}, {'Year': '2017', 'UR': 4.4, 'Growth': 1.9}, {'Year': '2018', 'UR': 4.1, 'Growth': 1.4}]\n"
     ]
    }
   ],
   "source": [
    "\n",
    "\n",
    "    results = session.query(country.Year, country.UR , country.Growth).all()\n",
    "\n",
    "    all_years = []\n",
    "    for Year , UR, Growth in results:\n",
    "        report_dict = {}\n",
    "        report_dict[\"Year\"]= Year\n",
    "        report_dict[\"UR\"] = UR\n",
    "        report_dict[\"Growth\"] = Growth\n",
    "        all_years.append(report_dict)\n",
    "\n",
    "#     return jsonify(all_years)\n",
    "    print(all_years)\n"
   ]
  },
  {
   "cell_type": "code",
   "execution_count": null,
   "metadata": {},
   "outputs": [],
   "source": []
  },
  {
   "cell_type": "code",
   "execution_count": null,
   "metadata": {},
   "outputs": [],
   "source": [
    "# file_name = 'csv/singapore.csv'\n",
    "# df=pd.read_csv(file_name)\n",
    "# df"
   ]
  },
  {
   "cell_type": "code",
   "execution_count": null,
   "metadata": {},
   "outputs": [],
   "source": [
    "# print(df.columns.values)"
   ]
  },
  {
   "cell_type": "code",
   "execution_count": null,
   "metadata": {},
   "outputs": [],
   "source": [
    "# csv = df.to_csv (r'csv/singapore.csv', index = None, header=True)"
   ]
  },
  {
   "cell_type": "code",
   "execution_count": null,
   "metadata": {},
   "outputs": [],
   "source": [
    "str = \"This is a test I antg be toto ajjj annhsd \"\n",
    "print(str.split('/')[0])"
   ]
  },
  {
   "cell_type": "code",
   "execution_count": null,
   "metadata": {},
   "outputs": [],
   "source": [
    "str = \"This is a test\"\n",
    "print(str.split(\" \",2))"
   ]
  },
  {
   "cell_type": "code",
   "execution_count": null,
   "metadata": {},
   "outputs": [],
   "source": []
  }
 ],
 "metadata": {
  "kernelspec": {
   "display_name": "Python 3",
   "language": "python",
   "name": "python3"
  },
  "language_info": {
   "codemirror_mode": {
    "name": "ipython",
    "version": 3
   },
   "file_extension": ".py",
   "mimetype": "text/x-python",
   "name": "python",
   "nbconvert_exporter": "python",
   "pygments_lexer": "ipython3",
   "version": "3.7.3"
  }
 },
 "nbformat": 4,
 "nbformat_minor": 2
}
