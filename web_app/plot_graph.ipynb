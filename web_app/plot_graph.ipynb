{
 "cells": [
  {
   "cell_type": "code",
   "execution_count": 3,
   "metadata": {},
   "outputs": [],
   "source": [
    "import pandas as pd\n",
    "import json\n",
    "\n",
    "import plotly.express as px\n",
    "import plotly\n",
    "import plotly.graph_objs as go\n",
    "import sqlalchemy\n",
    "from sqlalchemy.ext.automap import automap_base\n",
    "from sqlalchemy.orm import Session\n",
    "from sqlalchemy import create_engine\n",
    "from sqlalchemy import func\n",
    "\n",
    "engine = create_engine('sqlite:///app/db/country.db', echo=False)\n",
    "session = Session(engine)\n",
    "\n",
    "\n",
    "Base = automap_base()\n",
    "Base.prepare(engine, reflect=True)\n",
    "\n",
    "country = Base.classes.country"
   ]
  },
  {
   "cell_type": "code",
   "execution_count": 4,
   "metadata": {},
   "outputs": [
    {
     "data": {
      "text/html": "<div>\n<style scoped>\n    .dataframe tbody tr th:only-of-type {\n        vertical-align: middle;\n    }\n\n    .dataframe tbody tr th {\n        vertical-align: top;\n    }\n\n    .dataframe thead th {\n        text-align: right;\n    }\n</style>\n<table border=\"1\" class=\"dataframe\">\n  <thead>\n    <tr style=\"text-align: right;\">\n      <th></th>\n      <th>index</th>\n      <th>Year</th>\n      <th>GDP</th>\n      <th>Growth</th>\n      <th>Inflation</th>\n      <th>UR</th>\n      <th>ER</th>\n      <th>Population</th>\n      <th>Avg_age_population</th>\n      <th>Households_number</th>\n      <th>Consumer_Expenditure</th>\n      <th>internet_Users</th>\n      <th>country</th>\n    </tr>\n  </thead>\n  <tbody>\n    <tr>\n      <th>0</th>\n      <td>0</td>\n      <td>2014</td>\n      <td>10439965.5</td>\n      <td>7.3</td>\n      <td>1.9</td>\n      <td>3.1</td>\n      <td>6.1</td>\n      <td>1360720.0</td>\n      <td>37.4</td>\n      <td>445821.0</td>\n      <td>3943565.5</td>\n      <td>612755.9</td>\n      <td>china</td>\n    </tr>\n    <tr>\n      <th>1</th>\n      <td>1</td>\n      <td>2015</td>\n      <td>11015504.9</td>\n      <td>6.9</td>\n      <td>1.4</td>\n      <td>3.3</td>\n      <td>6.2</td>\n      <td>1367820.0</td>\n      <td>37.6</td>\n      <td>452778.1</td>\n      <td>4256794.1</td>\n      <td>645814.2</td>\n      <td>china</td>\n    </tr>\n    <tr>\n      <th>2</th>\n      <td>2</td>\n      <td>2016</td>\n      <td>11138042.2</td>\n      <td>6.7</td>\n      <td>2.0</td>\n      <td>3.6</td>\n      <td>6.6</td>\n      <td>1374620.0</td>\n      <td>37.8</td>\n      <td>459551.8</td>\n      <td>4408443.4</td>\n      <td>684987.1</td>\n      <td>china</td>\n    </tr>\n    <tr>\n      <th>3</th>\n      <td>3</td>\n      <td>2017</td>\n      <td>12143201.1</td>\n      <td>6.9</td>\n      <td>1.6</td>\n      <td>3.7</td>\n      <td>6.8</td>\n      <td>1382710.0</td>\n      <td>38.0</td>\n      <td>466786.8</td>\n      <td>4697194.9</td>\n      <td>702685.6</td>\n      <td>china</td>\n    </tr>\n    <tr>\n      <th>4</th>\n      <td>4</td>\n      <td>2018</td>\n      <td>13608151.9</td>\n      <td>6.6</td>\n      <td>2.1</td>\n      <td>3.9</td>\n      <td>6.6</td>\n      <td>1390080.0</td>\n      <td>38.2</td>\n      <td>473844.2</td>\n      <td>5313865.1</td>\n      <td>756755.4</td>\n      <td>china</td>\n    </tr>\n  </tbody>\n</table>\n</div>",
      "text/plain": "   index  Year         GDP  Growth  Inflation   UR   ER  Population  \\\n0      0  2014  10439965.5     7.3        1.9  3.1  6.1   1360720.0   \n1      1  2015  11015504.9     6.9        1.4  3.3  6.2   1367820.0   \n2      2  2016  11138042.2     6.7        2.0  3.6  6.6   1374620.0   \n3      3  2017  12143201.1     6.9        1.6  3.7  6.8   1382710.0   \n4      4  2018  13608151.9     6.6        2.1  3.9  6.6   1390080.0   \n\n   Avg_age_population  Households_number  Consumer_Expenditure  \\\n0                37.4           445821.0             3943565.5   \n1                37.6           452778.1             4256794.1   \n2                37.8           459551.8             4408443.4   \n3                38.0           466786.8             4697194.9   \n4                38.2           473844.2             5313865.1   \n\n   internet_Users country  \n0        612755.9   china  \n1        645814.2   china  \n2        684987.1   china  \n3        702685.6   china  \n4        756755.4   china  "
     },
     "execution_count": 4,
     "metadata": {},
     "output_type": "execute_result"
    }
   ],
   "source": [
    "stmt = session.query(country).statement\n",
    "df= pd.read_sql_query(stmt, session.bind)\n",
    "\n",
    "df.head()"
   ]
  },
  {
   "cell_type": "code",
   "execution_count": null,
   "metadata": {},
   "outputs": [],
   "source": [
    "# dfcap = df[(df['country'] == 'china') | (df['country'] == 'usa') | (df['country'] == 'uk') |\n",
    "#                (df['country'] == 'singapore')]\n",
    "\n",
    "# chart_data = dfcap.to_dict(orient=\"records\")\n",
    "# chart_data = json.dumps(chart_data)\n",
    "# data= {'chart_data': chart_data}"
   ]
  },
  {
   "cell_type": "code",
   "execution_count": null,
   "metadata": {},
   "outputs": [],
   "source": [
    "#  results = session.query(country.Year,country).\\\n",
    "#                         filter(Measurement.date > begin_date).\\\n",
    "# #                         order_by(Measurement.date).all()\n",
    "\n",
    "# print(data)"
   ]
  },
  {
   "cell_type": "code",
   "execution_count": null,
   "metadata": {},
   "outputs": [],
   "source": [
    "# results = engine.execute('SELECT Year,country,UR,Growth,inflation,ER,Population FROM country')\n",
    "# df = pd.DataFrame(results, columns=['Year','country','UR','Growth','inflation','ER','Population'])\n",
    "# chart_data = df.to_dict(orient=\"records\")\n",
    "# chart_data = json.dumps(chart_data)\n",
    "# data= {'chart_data': chart_data}\n"
   ]
  },
  {
   "cell_type": "code",
   "execution_count": 5,
   "metadata": {},
   "outputs": [
    {
     "data": {
      "text/html": "<div>\n<style scoped>\n    .dataframe tbody tr th:only-of-type {\n        vertical-align: middle;\n    }\n\n    .dataframe tbody tr th {\n        vertical-align: top;\n    }\n\n    .dataframe thead th {\n        text-align: right;\n    }\n</style>\n<table border=\"1\" class=\"dataframe\">\n  <thead>\n    <tr style=\"text-align: right;\">\n      <th></th>\n      <th>Year</th>\n      <th>country</th>\n      <th>UR</th>\n      <th>Growth</th>\n      <th>GDP</th>\n      <th>inflation</th>\n      <th>ER</th>\n      <th>Population</th>\n    </tr>\n  </thead>\n  <tbody>\n    <tr>\n      <th>4</th>\n      <td>2018</td>\n      <td>china</td>\n      <td>3.9</td>\n      <td>6.6</td>\n      <td>13608151.9</td>\n      <td>2.1</td>\n      <td>6.6</td>\n      <td>1390080.0</td>\n    </tr>\n    <tr>\n      <th>9</th>\n      <td>2018</td>\n      <td>usa</td>\n      <td>3.9</td>\n      <td>2.9</td>\n      <td>20580223.0</td>\n      <td>2.4</td>\n      <td>1.0</td>\n      <td>327719.6</td>\n    </tr>\n    <tr>\n      <th>14</th>\n      <td>2018</td>\n      <td>singapore</td>\n      <td>2.1</td>\n      <td>3.1</td>\n      <td>363744.8</td>\n      <td>0.4</td>\n      <td>1.4</td>\n      <td>5661.0</td>\n    </tr>\n    <tr>\n      <th>19</th>\n      <td>2018</td>\n      <td>france</td>\n      <td>9.1</td>\n      <td>1.7</td>\n      <td>2777622.0</td>\n      <td>1.9</td>\n      <td>0.8</td>\n      <td>64725.1</td>\n    </tr>\n    <tr>\n      <th>24</th>\n      <td>2018</td>\n      <td>uk</td>\n      <td>4.1</td>\n      <td>1.4</td>\n      <td>2854909.4</td>\n      <td>2.5</td>\n      <td>0.7</td>\n      <td>66273.6</td>\n    </tr>\n  </tbody>\n</table>\n</div>",
      "text/plain": "    Year    country   UR  Growth         GDP  inflation   ER  Population\n4   2018      china  3.9     6.6  13608151.9        2.1  6.6   1390080.0\n9   2018        usa  3.9     2.9  20580223.0        2.4  1.0    327719.6\n14  2018  singapore  2.1     3.1    363744.8        0.4  1.4      5661.0\n19  2018     france  9.1     1.7   2777622.0        1.9  0.8     64725.1\n24  2018         uk  4.1     1.4   2854909.4        2.5  0.7     66273.6"
     },
     "execution_count": 5,
     "metadata": {},
     "output_type": "execute_result"
    }
   ],
   "source": [
    "results = engine.execute('SELECT Year,country,UR,Growth,GDP,inflation,ER,Population FROM country')\n",
    "\n",
    "cols=['Year','country','UR','Growth','GDP','inflation','ER','Population']\n",
    "dat = pd.DataFrame(list(results), columns=cols)\n",
    "data1 = dat[(df['Year'] == '2018')]\n",
    "usa = df[(df['country'] == 'usa')]\n",
    "china = df[(df.country == 'china')]\n",
    "# chart_data = df.to_dict(orient=\"records\")\n",
    "# chart_data = json.dumps(chart_data)\n",
    "# data= {'chart_data': chart_data}\n",
    "data1.head()"
   ]
  },
  {
   "cell_type": "code",
   "execution_count": null,
   "metadata": {},
   "outputs": [],
   "source": [
    "trace1 = go.Bar(name='China',\n",
    "    x=china.Year,\n",
    "    y=china['UR'])\n",
    "trace2 = go.Bar(name='USA',\n",
    "    x=usa.Year,\n",
    "    y=usa['UR'])\n",
    "\n",
    "data = [trace1,trace2]\n",
    "layout = go.Layout(\n",
    "    title='Test',yaxis=dict(\n",
    "        title= 'unemployment rate'\n",
    "    ))\n",
    "fig = go.Figure(data = data , layout = layout)\n",
    "fig.update_layout(barmode='group')\n",
    "\n",
    "fig.show()"
   ]
  },
  {
   "cell_type": "code",
   "execution_count": 7,
   "metadata": {},
   "outputs": [
    {
     "ename": "SyntaxError",
     "evalue": "invalid syntax (<ipython-input-7-16d157bd13d9>, line 9)",
     "output_type": "error",
     "traceback": [
      "\u001b[0;36m  File \u001b[0;32m\"<ipython-input-7-16d157bd13d9>\"\u001b[0;36m, line \u001b[0;32m9\u001b[0m\n\u001b[0;31m    Data = [trace]\u001b[0m\n\u001b[0m       ^\u001b[0m\n\u001b[0;31mSyntaxError\u001b[0m\u001b[0;31m:\u001b[0m invalid syntax\n"
     ]
    }
   ],
   "source": [
    "trace = go.Scatter(\n",
    "    x=df.country,\n",
    "    y=df['UR'],\n",
    "    mode='markers',\n",
    "    marker=dict(\n",
    "        color=df['Year'],\n",
    "        size=df['UR']\n",
    "    )\n",
    "Data = [trace]\n",
    "layout= go.Layout(\n",
    "    title='Testing'\n",
    ")\n",
    ")\n",
    "fig= go.Figure(data=Data, layout=layout)\n",
    "fig.show()"
   ]
  },
  {
   "cell_type": "code",
   "execution_count": null,
   "metadata": {},
   "outputs": [],
   "source": [
    "fig= px.scatter(df, x=\"country\", y=\"UR\", color='Year', size='UR',hover_data=['Growth'])\n",
    "\n",
    "fig.show()"
   ]
  },
  {
   "cell_type": "code",
   "execution_count": null,
   "metadata": {},
   "outputs": [],
   "source": [
    "\n",
    "\n",
    "\n",
    "\n",
    "\n",
    "usa = df[(df['country'] == 'usa')]\n",
    "china = df[(df.country == 'china')]\n",
    "singapore = df[(df.country == 'singapore')]\n",
    "france = df[(df.country == 'france')]\n",
    "uk = df[(df.country == 'uk')]\n",
    "\n",
    "usa.head()"
   ]
  },
  {
   "cell_type": "code",
   "execution_count": null,
   "metadata": {},
   "outputs": [],
   "source": [
    "fig = go.Figure()\n",
    "fig.add_tr\n",
    "\n"
   ]
  },
  {
   "cell_type": "code",
   "execution_count": null,
   "metadata": {},
   "outputs": [],
   "source": [
    "fig = px.bar(df, x='Year', y='Growth',\n",
    "            color='UR', facet_col='country', width = 800)\n",
    "fig.show()"
   ]
  },
  {
   "cell_type": "code",
   "execution_count": null,
   "metadata": {
    "scrolled": true
   },
   "outputs": [],
   "source": [
    "df.head()"
   ]
  },
  {
   "cell_type": "code",
   "execution_count": null,
   "metadata": {},
   "outputs": [],
   "source": [
    "fig = px.line(df, x='Year', y='UR', color = 'country')\n",
    "fig.update_traces(mode='markers+lines')\n",
    "fig.show()"
   ]
  },
  {
   "cell_type": "code",
   "execution_count": null,
   "metadata": {},
   "outputs": [],
   "source": [
    "fig = px.bar( df_test, x='Year', y='norm_Growth', color='Growth',\n",
    "    facet_row=\"country\",\n",
    "    hover_name='country'\n",
    "   \n",
    ")\n",
    "fig.update_layout(\n",
    "plot_bgcolor=\"white\",\n",
    ")\n",
    "fig.show(config={'displayModeBar': False})"
   ]
  },
  {
   "cell_type": "code",
   "execution_count": null,
   "metadata": {},
   "outputs": [],
   "source": [
    "four = df.loc[df[\"Year\"]==\"2014\",:]\n",
    "five = df.loc[df[\"Year\"]==\"2015\",:]\n",
    "six  = df.loc[df[\"Year\"]==\"2016\",:]\n",
    "seven  = df.loc[df[\"Year\"]==\"2017\",:]\n",
    "eight = df.loc[df[\"Year\"]==\"2018\",:]\n",
    "        "
   ]
  },
  {
   "cell_type": "code",
   "execution_count": null,
   "metadata": {},
   "outputs": [],
   "source": [
    "# test = [four,five,six,seven,eight]\n",
    "# test_zip = zip(test)\n",
    "# test_data = dict(test_zip)\n",
    "# # test_data = json.dumps(dic, indent=2)\n",
    "# # data= {'test_data': test_data}\n",
    "# print(test_data)"
   ]
  },
  {
   "cell_type": "code",
   "execution_count": null,
   "metadata": {},
   "outputs": [],
   "source": [
    "print(test_year)"
   ]
  },
  {
   "cell_type": "code",
   "execution_count": null,
   "metadata": {},
   "outputs": [],
   "source": [
    " Create a zip object from two lists\n",
    "zipbObj = zip(listOfStr, listOfInt)\n",
    " \n",
    "# Create a dictionary from zip object\n",
    "dictOfWords = dict(zipbObj)"
   ]
  }
 ],
 "metadata": {
  "kernelspec": {
   "display_name": "Python 3",
   "language": "python",
   "name": "python3"
  },
  "language_info": {
   "codemirror_mode": {
    "name": "ipython",
    "version": 3
   },
   "file_extension": ".py",
   "mimetype": "text/x-python",
   "name": "python",
   "nbconvert_exporter": "python",
   "pygments_lexer": "ipython3",
   "version": "3.7.6-final"
  }
 },
 "nbformat": 4,
 "nbformat_minor": 2
}