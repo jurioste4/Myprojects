{
 "cells": [
  {
   "cell_type": "code",
   "execution_count": 67,
   "metadata": {},
   "outputs": [
    {
     "data": {
      "text/plain": "[      Area\n 0  692 km2,                             Currency\n 0  Singapore dollar (S$ = 100 cents),      Capital\n 0  Singapore,           Head of State\n 0  Halimah Yacob (2017),                                           Unnamed: 0      2013      2014  \\\n 0                                  GDP (USD million)  307576.4  314863.6   \n 1                         Real GDP Growth (% growth)       4.8       3.9   \n 2                               Inflation (% growth)       2.4       1.0   \n 3  Unemployment Rate (% of economically active po...       1.9       1.9   \n 4     Exchange Rates Against US Dollar (SGD per USD)       1.3       1.3   \n \n        2015      2016      2017      2018  \n 0  307998.4  318059.2  338400.8  363744.8  \n 1       2.9       3.0       3.7       3.1  \n 2      -0.5      -0.5       0.6       0.4  \n 3       1.9       2.1       2.2       2.1  \n 4       1.4       1.4       1.4       1.4  ,                            Unnamed: 0      2013      2014      2015      2016  \\\n 0             Total Population ('000)    5399.2    5469.7    5535.0    5607.3   \n 1    Median Age of Population (years)      40.4      41.0      41.6      42.2   \n 2         Number of Households ('000)    1556.0    1594.7    1632.7    1673.8   \n 3  Consumer Expenditure (USD million)  115000.0  117524.9  112543.8  116071.1   \n 4               Internet Users ('000)    4184.5    4141.9    4189.3    4537.1   \n \n        2017      2018  \n 0    5612.3    5661.0  \n 1      42.8      43.3  \n 2    1700.7    1733.7  \n 3  121084.5  127859.8  \n 4    4547.0    4792.1  ]"
     },
     "execution_count": 67,
     "metadata": {},
     "output_type": "execute_result"
    }
   ],
   "source": [
    "import csv\n",
    "import requests\n",
    "import pandas as pd\n",
    "\n",
    "\n",
    "\n",
    "\n",
    "\n",
    "url = \"https://www.euromonitor.com/singapore/country-factfile\"\n",
    "tables = pd.read_html(url)\n",
    "tables"
   ]
  },
  {
   "cell_type": "code",
   "execution_count": 68,
   "metadata": {},
   "outputs": [],
   "source": [
    "df = tables[4]\n",
    "df.rename(columns = {'Unnamed: 0':'Economies'}, inplace = True) \n",
    "df2 = tables[5]\n",
    "df2.rename(columns = {'Unnamed: 0':'Economies'}, inplace = True) "
   ]
  },
  {
   "cell_type": "code",
   "execution_count": 69,
   "metadata": {},
   "outputs": [],
   "source": [
    "frames= [df,df2]\n",
    "data = pd.concat(frames)"
   ]
  },
  {
   "cell_type": "code",
   "execution_count": 70,
   "metadata": {},
   "outputs": [
    {
     "data": {
      "text/html": "<div>\n<style scoped>\n    .dataframe tbody tr th:only-of-type {\n        vertical-align: middle;\n    }\n\n    .dataframe tbody tr th {\n        vertical-align: top;\n    }\n\n    .dataframe thead th {\n        text-align: right;\n    }\n</style>\n<table border=\"1\" class=\"dataframe\">\n  <thead>\n    <tr style=\"text-align: right;\">\n      <th></th>\n      <th>Economies</th>\n      <th>2013</th>\n      <th>2014</th>\n      <th>2015</th>\n      <th>2016</th>\n      <th>2017</th>\n      <th>2018</th>\n    </tr>\n  </thead>\n  <tbody>\n    <tr>\n      <th>0</th>\n      <td>GDP (USD million)</td>\n      <td>307576.4</td>\n      <td>314863.6</td>\n      <td>307998.4</td>\n      <td>318059.2</td>\n      <td>338400.8</td>\n      <td>363744.8</td>\n    </tr>\n    <tr>\n      <th>1</th>\n      <td>Real GDP Growth (% growth)</td>\n      <td>4.8</td>\n      <td>3.9</td>\n      <td>2.9</td>\n      <td>3.0</td>\n      <td>3.7</td>\n      <td>3.1</td>\n    </tr>\n    <tr>\n      <th>2</th>\n      <td>Inflation (% growth)</td>\n      <td>2.4</td>\n      <td>1.0</td>\n      <td>-0.5</td>\n      <td>-0.5</td>\n      <td>0.6</td>\n      <td>0.4</td>\n    </tr>\n    <tr>\n      <th>3</th>\n      <td>Unemployment Rate (% of economically active po...</td>\n      <td>1.9</td>\n      <td>1.9</td>\n      <td>1.9</td>\n      <td>2.1</td>\n      <td>2.2</td>\n      <td>2.1</td>\n    </tr>\n    <tr>\n      <th>4</th>\n      <td>Exchange Rates Against US Dollar (SGD per USD)</td>\n      <td>1.3</td>\n      <td>1.3</td>\n      <td>1.4</td>\n      <td>1.4</td>\n      <td>1.4</td>\n      <td>1.4</td>\n    </tr>\n    <tr>\n      <th>0</th>\n      <td>Total Population ('000)</td>\n      <td>5399.2</td>\n      <td>5469.7</td>\n      <td>5535.0</td>\n      <td>5607.3</td>\n      <td>5612.3</td>\n      <td>5661.0</td>\n    </tr>\n    <tr>\n      <th>1</th>\n      <td>Median Age of Population (years)</td>\n      <td>40.4</td>\n      <td>41.0</td>\n      <td>41.6</td>\n      <td>42.2</td>\n      <td>42.8</td>\n      <td>43.3</td>\n    </tr>\n    <tr>\n      <th>2</th>\n      <td>Number of Households ('000)</td>\n      <td>1556.0</td>\n      <td>1594.7</td>\n      <td>1632.7</td>\n      <td>1673.8</td>\n      <td>1700.7</td>\n      <td>1733.7</td>\n    </tr>\n    <tr>\n      <th>3</th>\n      <td>Consumer Expenditure (USD million)</td>\n      <td>115000.0</td>\n      <td>117524.9</td>\n      <td>112543.8</td>\n      <td>116071.1</td>\n      <td>121084.5</td>\n      <td>127859.8</td>\n    </tr>\n    <tr>\n      <th>4</th>\n      <td>Internet Users ('000)</td>\n      <td>4184.5</td>\n      <td>4141.9</td>\n      <td>4189.3</td>\n      <td>4537.1</td>\n      <td>4547.0</td>\n      <td>4792.1</td>\n    </tr>\n  </tbody>\n</table>\n</div>",
      "text/plain": "                                           Economies      2013      2014  \\\n0                                  GDP (USD million)  307576.4  314863.6   \n1                         Real GDP Growth (% growth)       4.8       3.9   \n2                               Inflation (% growth)       2.4       1.0   \n3  Unemployment Rate (% of economically active po...       1.9       1.9   \n4     Exchange Rates Against US Dollar (SGD per USD)       1.3       1.3   \n0                            Total Population ('000)    5399.2    5469.7   \n1                   Median Age of Population (years)      40.4      41.0   \n2                        Number of Households ('000)    1556.0    1594.7   \n3                 Consumer Expenditure (USD million)  115000.0  117524.9   \n4                              Internet Users ('000)    4184.5    4141.9   \n\n       2015      2016      2017      2018  \n0  307998.4  318059.2  338400.8  363744.8  \n1       2.9       3.0       3.7       3.1  \n2      -0.5      -0.5       0.6       0.4  \n3       1.9       2.1       2.2       2.1  \n4       1.4       1.4       1.4       1.4  \n0    5535.0    5607.3    5612.3    5661.0  \n1      41.6      42.2      42.8      43.3  \n2    1632.7    1673.8    1700.7    1733.7  \n3  112543.8  116071.1  121084.5  127859.8  \n4    4189.3    4537.1    4547.0    4792.1  "
     },
     "execution_count": 70,
     "metadata": {},
     "output_type": "execute_result"
    }
   ],
   "source": [
    "# convertcsv = df2.to_csv (r'data/uk.csv', index = None, header=True)\n",
    "data.head(12)"
   ]
  },
  {
   "cell_type": "code",
   "execution_count": 71,
   "metadata": {},
   "outputs": [
    {
     "data": {
      "text/html": "<div>\n<style scoped>\n    .dataframe tbody tr th:only-of-type {\n        vertical-align: middle;\n    }\n\n    .dataframe tbody tr th {\n        vertical-align: top;\n    }\n\n    .dataframe thead th {\n        text-align: right;\n    }\n</style>\n<table border=\"1\" class=\"dataframe\">\n  <thead>\n    <tr style=\"text-align: right;\">\n      <th></th>\n      <th>2013</th>\n      <th>2014</th>\n      <th>2015</th>\n      <th>2016</th>\n      <th>2017</th>\n      <th>2018</th>\n    </tr>\n    <tr>\n      <th>Economies</th>\n      <th></th>\n      <th></th>\n      <th></th>\n      <th></th>\n      <th></th>\n      <th></th>\n    </tr>\n  </thead>\n  <tbody>\n    <tr>\n      <th>GDP (USD million)</th>\n      <td>307576.4</td>\n      <td>314863.6</td>\n      <td>307998.4</td>\n      <td>318059.2</td>\n      <td>338400.8</td>\n      <td>363744.8</td>\n    </tr>\n    <tr>\n      <th>Real GDP Growth (% growth)</th>\n      <td>4.8</td>\n      <td>3.9</td>\n      <td>2.9</td>\n      <td>3.0</td>\n      <td>3.7</td>\n      <td>3.1</td>\n    </tr>\n    <tr>\n      <th>Inflation (% growth)</th>\n      <td>2.4</td>\n      <td>1.0</td>\n      <td>-0.5</td>\n      <td>-0.5</td>\n      <td>0.6</td>\n      <td>0.4</td>\n    </tr>\n  </tbody>\n</table>\n</div>",
      "text/plain": "                                2013      2014      2015      2016      2017  \\\nEconomies                                                                      \nGDP (USD million)           307576.4  314863.6  307998.4  318059.2  338400.8   \nReal GDP Growth (% growth)       4.8       3.9       2.9       3.0       3.7   \nInflation (% growth)             2.4       1.0      -0.5      -0.5       0.6   \n\n                                2018  \nEconomies                             \nGDP (USD million)           363744.8  \nReal GDP Growth (% growth)       3.1  \nInflation (% growth)             0.4  "
     },
     "execution_count": 71,
     "metadata": {},
     "output_type": "execute_result"
    }
   ],
   "source": [
    "data.set_index('Economies', inplace = True)\n",
    "data.head(3)"
   ]
  },
  {
   "cell_type": "code",
   "execution_count": 72,
   "metadata": {},
   "outputs": [
    {
     "name": "stdout",
     "output_type": "stream",
     "text": "None\n"
    }
   ],
   "source": [
    "data.index.name = None\n",
    "print(data.index.name)"
   ]
  },
  {
   "cell_type": "code",
   "execution_count": 73,
   "metadata": {},
   "outputs": [
    {
     "data": {
      "text/html": "<div>\n<style scoped>\n    .dataframe tbody tr th:only-of-type {\n        vertical-align: middle;\n    }\n\n    .dataframe tbody tr th {\n        vertical-align: top;\n    }\n\n    .dataframe thead th {\n        text-align: right;\n    }\n</style>\n<table border=\"1\" class=\"dataframe\">\n  <thead>\n    <tr style=\"text-align: right;\">\n      <th></th>\n      <th>GDP (USD million)</th>\n      <th>Real GDP Growth (% growth)</th>\n      <th>Inflation (% growth)</th>\n      <th>Unemployment Rate (% of economically active population)</th>\n      <th>Exchange Rates Against US Dollar (SGD per USD)</th>\n      <th>Total Population ('000)</th>\n      <th>Median Age of Population (years)</th>\n      <th>Number of Households ('000)</th>\n      <th>Consumer Expenditure (USD million)</th>\n      <th>Internet Users ('000)</th>\n    </tr>\n  </thead>\n  <tbody>\n    <tr>\n      <th>2013</th>\n      <td>307576.4</td>\n      <td>4.8</td>\n      <td>2.4</td>\n      <td>1.9</td>\n      <td>1.3</td>\n      <td>5399.2</td>\n      <td>40.4</td>\n      <td>1556.0</td>\n      <td>115000.0</td>\n      <td>4184.5</td>\n    </tr>\n    <tr>\n      <th>2014</th>\n      <td>314863.6</td>\n      <td>3.9</td>\n      <td>1.0</td>\n      <td>1.9</td>\n      <td>1.3</td>\n      <td>5469.7</td>\n      <td>41.0</td>\n      <td>1594.7</td>\n      <td>117524.9</td>\n      <td>4141.9</td>\n    </tr>\n    <tr>\n      <th>2015</th>\n      <td>307998.4</td>\n      <td>2.9</td>\n      <td>-0.5</td>\n      <td>1.9</td>\n      <td>1.4</td>\n      <td>5535.0</td>\n      <td>41.6</td>\n      <td>1632.7</td>\n      <td>112543.8</td>\n      <td>4189.3</td>\n    </tr>\n    <tr>\n      <th>2016</th>\n      <td>318059.2</td>\n      <td>3.0</td>\n      <td>-0.5</td>\n      <td>2.1</td>\n      <td>1.4</td>\n      <td>5607.3</td>\n      <td>42.2</td>\n      <td>1673.8</td>\n      <td>116071.1</td>\n      <td>4537.1</td>\n    </tr>\n  </tbody>\n</table>\n</div>",
      "text/plain": "      GDP (USD million)  Real GDP Growth (% growth)  Inflation (% growth)  \\\n2013           307576.4                         4.8                   2.4   \n2014           314863.6                         3.9                   1.0   \n2015           307998.4                         2.9                  -0.5   \n2016           318059.2                         3.0                  -0.5   \n\n      Unemployment Rate (% of economically active population)  \\\n2013                                                1.9         \n2014                                                1.9         \n2015                                                1.9         \n2016                                                2.1         \n\n      Exchange Rates Against US Dollar (SGD per USD)  Total Population ('000)  \\\n2013                                             1.3                   5399.2   \n2014                                             1.3                   5469.7   \n2015                                             1.4                   5535.0   \n2016                                             1.4                   5607.3   \n\n      Median Age of Population (years)  Number of Households ('000)  \\\n2013                              40.4                       1556.0   \n2014                              41.0                       1594.7   \n2015                              41.6                       1632.7   \n2016                              42.2                       1673.8   \n\n      Consumer Expenditure (USD million)  Internet Users ('000)  \n2013                            115000.0                 4184.5  \n2014                            117524.9                 4141.9  \n2015                            112543.8                 4189.3  \n2016                            116071.1                 4537.1  "
     },
     "execution_count": 73,
     "metadata": {},
     "output_type": "execute_result"
    }
   ],
   "source": [
    "data_t = data.transpose()\n",
    "data_t.head(4)"
   ]
  },
  {
   "cell_type": "code",
   "execution_count": 74,
   "metadata": {},
   "outputs": [
    {
     "data": {
      "text/html": "<div>\n<style scoped>\n    .dataframe tbody tr th:only-of-type {\n        vertical-align: middle;\n    }\n\n    .dataframe tbody tr th {\n        vertical-align: top;\n    }\n\n    .dataframe thead th {\n        text-align: right;\n    }\n</style>\n<table border=\"1\" class=\"dataframe\">\n  <thead>\n    <tr style=\"text-align: right;\">\n      <th></th>\n      <th>Year</th>\n      <th>GDP (Mil)</th>\n      <th>Real GDP Growth (% growth)</th>\n      <th>Inflation (% growth)</th>\n      <th>Unemployment Rate (% of economically active population)</th>\n      <th>Exchange Rates Against US Dollar (SGD per USD)</th>\n      <th>Total Population ('000)</th>\n      <th>Median Age of Population (years)</th>\n      <th>Number of Households ('000)</th>\n      <th>Consumer Expenditure (USD million)</th>\n      <th>Internet Users ('000)</th>\n    </tr>\n  </thead>\n  <tbody>\n    <tr>\n      <th>0</th>\n      <td>2013</td>\n      <td>307576.4</td>\n      <td>4.8</td>\n      <td>2.4</td>\n      <td>1.9</td>\n      <td>1.3</td>\n      <td>5399.2</td>\n      <td>40.4</td>\n      <td>1556.0</td>\n      <td>115000.0</td>\n      <td>4184.5</td>\n    </tr>\n    <tr>\n      <th>1</th>\n      <td>2014</td>\n      <td>314863.6</td>\n      <td>3.9</td>\n      <td>1.0</td>\n      <td>1.9</td>\n      <td>1.3</td>\n      <td>5469.7</td>\n      <td>41.0</td>\n      <td>1594.7</td>\n      <td>117524.9</td>\n      <td>4141.9</td>\n    </tr>\n    <tr>\n      <th>2</th>\n      <td>2015</td>\n      <td>307998.4</td>\n      <td>2.9</td>\n      <td>-0.5</td>\n      <td>1.9</td>\n      <td>1.4</td>\n      <td>5535.0</td>\n      <td>41.6</td>\n      <td>1632.7</td>\n      <td>112543.8</td>\n      <td>4189.3</td>\n    </tr>\n    <tr>\n      <th>3</th>\n      <td>2016</td>\n      <td>318059.2</td>\n      <td>3.0</td>\n      <td>-0.5</td>\n      <td>2.1</td>\n      <td>1.4</td>\n      <td>5607.3</td>\n      <td>42.2</td>\n      <td>1673.8</td>\n      <td>116071.1</td>\n      <td>4537.1</td>\n    </tr>\n    <tr>\n      <th>4</th>\n      <td>2017</td>\n      <td>338400.8</td>\n      <td>3.7</td>\n      <td>0.6</td>\n      <td>2.2</td>\n      <td>1.4</td>\n      <td>5612.3</td>\n      <td>42.8</td>\n      <td>1700.7</td>\n      <td>121084.5</td>\n      <td>4547.0</td>\n    </tr>\n    <tr>\n      <th>5</th>\n      <td>2018</td>\n      <td>363744.8</td>\n      <td>3.1</td>\n      <td>0.4</td>\n      <td>2.1</td>\n      <td>1.4</td>\n      <td>5661.0</td>\n      <td>43.3</td>\n      <td>1733.7</td>\n      <td>127859.8</td>\n      <td>4792.1</td>\n    </tr>\n  </tbody>\n</table>\n</div>",
      "text/plain": "   Year  GDP (Mil)  Real GDP Growth (% growth)  Inflation (% growth)  \\\n0  2013   307576.4                         4.8                   2.4   \n1  2014   314863.6                         3.9                   1.0   \n2  2015   307998.4                         2.9                  -0.5   \n3  2016   318059.2                         3.0                  -0.5   \n4  2017   338400.8                         3.7                   0.6   \n5  2018   363744.8                         3.1                   0.4   \n\n   Unemployment Rate (% of economically active population)  \\\n0                                                1.9         \n1                                                1.9         \n2                                                1.9         \n3                                                2.1         \n4                                                2.2         \n5                                                2.1         \n\n   Exchange Rates Against US Dollar (SGD per USD)  Total Population ('000)  \\\n0                                             1.3                   5399.2   \n1                                             1.3                   5469.7   \n2                                             1.4                   5535.0   \n3                                             1.4                   5607.3   \n4                                             1.4                   5612.3   \n5                                             1.4                   5661.0   \n\n   Median Age of Population (years)  Number of Households ('000)  \\\n0                              40.4                       1556.0   \n1                              41.0                       1594.7   \n2                              41.6                       1632.7   \n3                              42.2                       1673.8   \n4                              42.8                       1700.7   \n5                              43.3                       1733.7   \n\n   Consumer Expenditure (USD million)  Internet Users ('000)  \n0                            115000.0                 4184.5  \n1                            117524.9                 4141.9  \n2                            112543.8                 4189.3  \n3                            116071.1                 4537.1  \n4                            121084.5                 4547.0  \n5                            127859.8                 4792.1  "
     },
     "execution_count": 74,
     "metadata": {},
     "output_type": "execute_result"
    }
   ],
   "source": [
    "data_t.reset_index(inplace=True)\n",
    "data_t.rename( columns= {'index': 'Year', 'GDP (USD million)': 'GDP (Mil)'}, inplace=True)\n",
    "data_t"
   ]
  },
  {
   "cell_type": "code",
   "execution_count": 75,
   "metadata": {},
   "outputs": [
    {
     "name": "stdout",
     "output_type": "stream",
     "text": "['Year' 'GDP (Mil)' 'Real GDP Growth (% growth)' 'Inflation (% growth)'\n 'Unemployment Rate (% of economically active population)'\n 'Exchange Rates Against US Dollar (SGD per USD)'\n \"Total Population ('000)\" 'Median Age of Population (years)'\n \"Number of Households ('000)\" 'Consumer Expenditure (USD million)'\n \"Internet Users ('000)\"]\n"
    }
   ],
   "source": [
    "print(data_t.columns.values)"
   ]
  },
  {
   "cell_type": "code",
   "execution_count": 76,
   "metadata": {},
   "outputs": [
    {
     "data": {
      "text/html": "<div>\n<style scoped>\n    .dataframe tbody tr th:only-of-type {\n        vertical-align: middle;\n    }\n\n    .dataframe tbody tr th {\n        vertical-align: top;\n    }\n\n    .dataframe thead th {\n        text-align: right;\n    }\n</style>\n<table border=\"1\" class=\"dataframe\">\n  <thead>\n    <tr style=\"text-align: right;\">\n      <th></th>\n      <th>Year</th>\n      <th>GDP (Mil)</th>\n      <th>GDP Growth (%)</th>\n      <th>Inflation (%)</th>\n      <th>UR (% econ active pop)</th>\n      <th>EXR (SGD per USD)</th>\n      <th>Total Population ('000)</th>\n      <th>Median Age of Population (years)</th>\n      <th>Number of Households ('000)</th>\n      <th>Consumer Expenditure (USD million)</th>\n      <th>Internet Users ('000)</th>\n    </tr>\n  </thead>\n  <tbody>\n    <tr>\n      <th>0</th>\n      <td>2013</td>\n      <td>307576.4</td>\n      <td>4.8</td>\n      <td>2.4</td>\n      <td>1.9</td>\n      <td>1.3</td>\n      <td>5399.2</td>\n      <td>40.4</td>\n      <td>1556.0</td>\n      <td>115000.0</td>\n      <td>4184.5</td>\n    </tr>\n    <tr>\n      <th>1</th>\n      <td>2014</td>\n      <td>314863.6</td>\n      <td>3.9</td>\n      <td>1.0</td>\n      <td>1.9</td>\n      <td>1.3</td>\n      <td>5469.7</td>\n      <td>41.0</td>\n      <td>1594.7</td>\n      <td>117524.9</td>\n      <td>4141.9</td>\n    </tr>\n    <tr>\n      <th>2</th>\n      <td>2015</td>\n      <td>307998.4</td>\n      <td>2.9</td>\n      <td>-0.5</td>\n      <td>1.9</td>\n      <td>1.4</td>\n      <td>5535.0</td>\n      <td>41.6</td>\n      <td>1632.7</td>\n      <td>112543.8</td>\n      <td>4189.3</td>\n    </tr>\n    <tr>\n      <th>3</th>\n      <td>2016</td>\n      <td>318059.2</td>\n      <td>3.0</td>\n      <td>-0.5</td>\n      <td>2.1</td>\n      <td>1.4</td>\n      <td>5607.3</td>\n      <td>42.2</td>\n      <td>1673.8</td>\n      <td>116071.1</td>\n      <td>4537.1</td>\n    </tr>\n    <tr>\n      <th>4</th>\n      <td>2017</td>\n      <td>338400.8</td>\n      <td>3.7</td>\n      <td>0.6</td>\n      <td>2.2</td>\n      <td>1.4</td>\n      <td>5612.3</td>\n      <td>42.8</td>\n      <td>1700.7</td>\n      <td>121084.5</td>\n      <td>4547.0</td>\n    </tr>\n    <tr>\n      <th>5</th>\n      <td>2018</td>\n      <td>363744.8</td>\n      <td>3.1</td>\n      <td>0.4</td>\n      <td>2.1</td>\n      <td>1.4</td>\n      <td>5661.0</td>\n      <td>43.3</td>\n      <td>1733.7</td>\n      <td>127859.8</td>\n      <td>4792.1</td>\n    </tr>\n  </tbody>\n</table>\n</div>",
      "text/plain": "   Year  GDP (Mil)  GDP Growth (%)  Inflation (%)  UR (% econ active pop)  \\\n0  2013   307576.4             4.8            2.4                     1.9   \n1  2014   314863.6             3.9            1.0                     1.9   \n2  2015   307998.4             2.9           -0.5                     1.9   \n3  2016   318059.2             3.0           -0.5                     2.1   \n4  2017   338400.8             3.7            0.6                     2.2   \n5  2018   363744.8             3.1            0.4                     2.1   \n\n   EXR (SGD per USD)  Total Population ('000)  \\\n0                1.3                   5399.2   \n1                1.3                   5469.7   \n2                1.4                   5535.0   \n3                1.4                   5607.3   \n4                1.4                   5612.3   \n5                1.4                   5661.0   \n\n   Median Age of Population (years)  Number of Households ('000)  \\\n0                              40.4                       1556.0   \n1                              41.0                       1594.7   \n2                              41.6                       1632.7   \n3                              42.2                       1673.8   \n4                              42.8                       1700.7   \n5                              43.3                       1733.7   \n\n   Consumer Expenditure (USD million)  Internet Users ('000)  \n0                            115000.0                 4184.5  \n1                            117524.9                 4141.9  \n2                            112543.8                 4189.3  \n3                            116071.1                 4537.1  \n4                            121084.5                 4547.0  \n5                            127859.8                 4792.1  "
     },
     "execution_count": 76,
     "metadata": {},
     "output_type": "execute_result"
    }
   ],
   "source": [
    "data_t.rename( columns = {'Real GDP Growth (% growth)': 'GDP Growth (%)',\n",
    "                            'Inflation (% growth)': 'Inflation (%)', \n",
    "                         'Unemployment Rate (% of economically active population)': 'UR (% econ active pop)',\n",
    "                         'Exchange Rates Against US Dollar (SGD per USD)': 'EXR (SGD per USD)'}, inplace=True)\n",
    "data_t"
   ]
  },
  {
   "cell_type": "code",
   "execution_count": 77,
   "metadata": {},
   "outputs": [],
   "source": [
    "csv = data_t.to_csv (r'data/singapore.csv', index = None, header=True)"
   ]
  },
  {
   "cell_type": "code",
   "execution_count": 78,
   "metadata": {},
   "outputs": [
    {
     "data": {
      "text/html": "<div>\n<style scoped>\n    .dataframe tbody tr th:only-of-type {\n        vertical-align: middle;\n    }\n\n    .dataframe tbody tr th {\n        vertical-align: top;\n    }\n\n    .dataframe thead th {\n        text-align: right;\n    }\n</style>\n<table border=\"1\" class=\"dataframe\">\n  <thead>\n    <tr style=\"text-align: right;\">\n      <th></th>\n      <th>Year</th>\n      <th>GDP (Mil)</th>\n      <th>GDP Growth (%)</th>\n      <th>Inflation (%)</th>\n      <th>UR (% econ active pop)</th>\n      <th>EXR (SGD per USD)</th>\n      <th>Total Population ('000)</th>\n      <th>Median Age of Population (years)</th>\n      <th>Number of Households ('000)</th>\n      <th>Consumer Expenditure (USD million)</th>\n      <th>Internet Users ('000)</th>\n    </tr>\n  </thead>\n  <tbody>\n    <tr>\n      <th>0</th>\n      <td>2013</td>\n      <td>307576.4</td>\n      <td>4.8</td>\n      <td>2.4</td>\n      <td>1.9</td>\n      <td>1.3</td>\n      <td>5399.2</td>\n      <td>40.4</td>\n      <td>1556.0</td>\n      <td>115000.0</td>\n      <td>4184.5</td>\n    </tr>\n    <tr>\n      <th>1</th>\n      <td>2014</td>\n      <td>314863.6</td>\n      <td>3.9</td>\n      <td>1.0</td>\n      <td>1.9</td>\n      <td>1.3</td>\n      <td>5469.7</td>\n      <td>41.0</td>\n      <td>1594.7</td>\n      <td>117524.9</td>\n      <td>4141.9</td>\n    </tr>\n    <tr>\n      <th>2</th>\n      <td>2015</td>\n      <td>307998.4</td>\n      <td>2.9</td>\n      <td>-0.5</td>\n      <td>1.9</td>\n      <td>1.4</td>\n      <td>5535.0</td>\n      <td>41.6</td>\n      <td>1632.7</td>\n      <td>112543.8</td>\n      <td>4189.3</td>\n    </tr>\n    <tr>\n      <th>3</th>\n      <td>2016</td>\n      <td>318059.2</td>\n      <td>3.0</td>\n      <td>-0.5</td>\n      <td>2.1</td>\n      <td>1.4</td>\n      <td>5607.3</td>\n      <td>42.2</td>\n      <td>1673.8</td>\n      <td>116071.1</td>\n      <td>4537.1</td>\n    </tr>\n    <tr>\n      <th>4</th>\n      <td>2017</td>\n      <td>338400.8</td>\n      <td>3.7</td>\n      <td>0.6</td>\n      <td>2.2</td>\n      <td>1.4</td>\n      <td>5612.3</td>\n      <td>42.8</td>\n      <td>1700.7</td>\n      <td>121084.5</td>\n      <td>4547.0</td>\n    </tr>\n    <tr>\n      <th>5</th>\n      <td>2018</td>\n      <td>363744.8</td>\n      <td>3.1</td>\n      <td>0.4</td>\n      <td>2.1</td>\n      <td>1.4</td>\n      <td>5661.0</td>\n      <td>43.3</td>\n      <td>1733.7</td>\n      <td>127859.8</td>\n      <td>4792.1</td>\n    </tr>\n  </tbody>\n</table>\n</div>",
      "text/plain": "   Year  GDP (Mil)  GDP Growth (%)  Inflation (%)  UR (% econ active pop)  \\\n0  2013   307576.4             4.8            2.4                     1.9   \n1  2014   314863.6             3.9            1.0                     1.9   \n2  2015   307998.4             2.9           -0.5                     1.9   \n3  2016   318059.2             3.0           -0.5                     2.1   \n4  2017   338400.8             3.7            0.6                     2.2   \n5  2018   363744.8             3.1            0.4                     2.1   \n\n   EXR (SGD per USD)  Total Population ('000)  \\\n0                1.3                   5399.2   \n1                1.3                   5469.7   \n2                1.4                   5535.0   \n3                1.4                   5607.3   \n4                1.4                   5612.3   \n5                1.4                   5661.0   \n\n   Median Age of Population (years)  Number of Households ('000)  \\\n0                              40.4                       1556.0   \n1                              41.0                       1594.7   \n2                              41.6                       1632.7   \n3                              42.2                       1673.8   \n4                              42.8                       1700.7   \n5                              43.3                       1733.7   \n\n   Consumer Expenditure (USD million)  Internet Users ('000)  \n0                            115000.0                 4184.5  \n1                            117524.9                 4141.9  \n2                            112543.8                 4189.3  \n3                            116071.1                 4537.1  \n4                            121084.5                 4547.0  \n5                            127859.8                 4792.1  "
     },
     "execution_count": 78,
     "metadata": {},
     "output_type": "execute_result"
    }
   ],
   "source": [
    "path = \"data/singapore.csv\"\n",
    "df = pd.read_csv(path)\n",
    "df.head(10)"
   ]
  },
  {
   "cell_type": "code",
   "metadata": {},
   "outputs": [],
   "source": []
  }
 ],
 "metadata": {
  "kernelspec": {
   "display_name": "Python 3",
   "language": "python",
   "name": "python3"
  },
  "language_info": {
   "codemirror_mode": {
    "name": "ipython",
    "version": 3
   },
   "file_extension": ".py",
   "mimetype": "text/x-python",
   "name": "python",
   "nbconvert_exporter": "python",
   "pygments_lexer": "ipython3",
   "version": "3.7.5"
  }
 },
 "nbformat": 4,
 "nbformat_minor": 2
}