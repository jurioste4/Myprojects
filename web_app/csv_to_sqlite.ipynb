{
 "cells": [
  {
   "cell_type": "code",
   "execution_count": 1,
   "metadata": {},
   "outputs": [],
   "source": [
    "import os\n",
    "import sys\n",
    "\n",
    "from sqlalchemy import inspect,Column,String,Integer\n",
    "from sqlalchemy.ext.declarative import declarative_base\n",
    "from sqlalchemy import create_engine\n",
    "import pandas as pd\n",
    "from sqlalchemy.ext.automap import automap_base\n",
    "from sqlalchemy.orm import Session, relationship\n",
    "\n"
   ]
  },
  {
   "cell_type": "code",
   "execution_count": 2,
   "metadata": {},
   "outputs": [],
   "source": [
    "Base = declarative_base()"
   ]
  },
  {
   "cell_type": "code",
   "execution_count": 3,
   "metadata": {},
   "outputs": [],
   "source": [
    "class singapore(Base):\n",
    "    __tablename__ = \"singapore\"\n",
    "    index = Column(Integer, primary_key=True)\n",
    "#     id = Column(Integer, primary_key=True)\n",
    "    Year = Column(String)\n",
    "    GDP = Column(Integer)\n",
    "    Growth = Column(Integer)\n",
    "    Inflation = Column(Integer)\n",
    "    UR = Column(Integer)\n",
    "    ER= Column(Integer)\n",
    "    Population = Column(Integer)\n",
    "    Avg_Age_population = Column(Integer)\n",
    "    Households_number  = Column(Integer)\n",
    "    Consumer_Expenditure  = Column(Integer)\n",
    "    Internet_Users  = Column(Integer)"
   ]
  },
  {
   "cell_type": "code",
   "execution_count": 4,
   "metadata": {
    "scrolled": true
   },
   "outputs": [],
   "source": [
    "\n",
    "engine = create_engine('sqlite:///DB/country.db', echo=False)\n",
    "\n",
    "# conn = engine.connect()"
   ]
  },
  {
   "cell_type": "code",
   "execution_count": 5,
   "metadata": {},
   "outputs": [],
   "source": [
    "Base.metadata.create_all(engine)\n"
   ]
  },
  {
   "cell_type": "code",
   "execution_count": null,
   "metadata": {},
   "outputs": [],
   "source": [
    "session = Session(bind=engine)"
   ]
  },
  {
   "cell_type": "code",
   "execution_count": 6,
   "metadata": {},
   "outputs": [
    {
     "data": {
      "text/plain": [
       "['singapore', 'usa']"
      ]
     },
     "execution_count": 6,
     "metadata": {},
     "output_type": "execute_result"
    }
   ],
   "source": [
    "Base = automap_base()\n",
    "Base.prepare(engine, reflect=True)\n",
    "Base.classes.keys()"
   ]
  },
  {
   "cell_type": "code",
   "execution_count": 7,
   "metadata": {},
   "outputs": [],
   "source": [
    "file_name = 'csv/singapore.csv'\n",
    "df=pd.read_csv(file_name)\n",
    "df.to_sql('singapore',con=engine, if_exists='append')"
   ]
  },
  {
   "cell_type": "code",
   "execution_count": 8,
   "metadata": {},
   "outputs": [
    {
     "data": {
      "text/plain": [
       "['singapore', 'usa']"
      ]
     },
     "execution_count": 8,
     "metadata": {},
     "output_type": "execute_result"
    }
   ],
   "source": [
    "\n",
    "Base = automap_base()\n",
    "Base.prepare(engine, reflect=True)\n",
    "Base.classes.keys()\n"
   ]
  },
  {
   "cell_type": "code",
   "execution_count": 9,
   "metadata": {},
   "outputs": [
    {
     "data": {
      "text/plain": [
       "[(0, '2014', 314863.6, 3.9, 1, 1.9, 1.3, 5469.7, 41, 1594.7, 117524.9, 4141.9),\n",
       " (1, '2015', 307998.4, 2.9, -0.5, 1.9, 1.4, 5535, 41.6, 1632.7, 112543.8, 4189.3),\n",
       " (2, '2016', 318059.2, 3, -0.5, 2.1, 1.4, 5607.3, 42.2, 1673.8, 116071.1, 4537.1),\n",
       " (3, '2017', 338400.8, 3.7, 0.6, 2.2, 1.4, 5612.3, 42.8, 1700.7, 121084.5, 4547),\n",
       " (4, '2018', 363744.8, 3.1, 0.4, 2.1, 1.4, 5661, 43.3, 1733.7, 127859.8, 4792.1)]"
      ]
     },
     "execution_count": 9,
     "metadata": {},
     "output_type": "execute_result"
    }
   ],
   "source": [
    "engine.execute('SELECT * FROM singapore LIMIT 5').fetchall()"
   ]
  },
  {
   "cell_type": "code",
   "execution_count": 10,
   "metadata": {},
   "outputs": [
    {
     "name": "stdout",
     "output_type": "stream",
     "text": [
      "index INTEGER\n",
      "Year VARCHAR\n",
      "GDP INTEGER\n",
      "Growth INTEGER\n",
      "Inflation INTEGER\n",
      "UR INTEGER\n",
      "ER INTEGER\n",
      "Population INTEGER\n",
      "Avg_Age_population INTEGER\n",
      "Households_number INTEGER\n",
      "Consumer_Expenditure INTEGER\n",
      "Internet_Users INTEGER\n"
     ]
    }
   ],
   "source": [
    "inspector = inspect(engine)\n",
    "columns = inspector.get_columns('singapore')\n",
    "for c in columns:\n",
    "    print(c['name'], c[\"type\"])"
   ]
  },
  {
   "cell_type": "code",
   "execution_count": null,
   "metadata": {},
   "outputs": [],
   "source": []
  },
  {
   "cell_type": "code",
   "execution_count": null,
   "metadata": {},
   "outputs": [],
   "source": []
  },
  {
   "cell_type": "code",
   "execution_count": null,
   "metadata": {},
   "outputs": [],
   "source": []
  }
 ],
 "metadata": {
  "kernelspec": {
   "display_name": "Python 3",
   "language": "python",
   "name": "python3"
  },
  "language_info": {
   "codemirror_mode": {
    "name": "ipython",
    "version": 3
   },
   "file_extension": ".py",
   "mimetype": "text/x-python",
   "name": "python",
   "nbconvert_exporter": "python",
   "pygments_lexer": "ipython3",
   "version": "3.7.3"
  }
 },
 "nbformat": 4,
 "nbformat_minor": 2
}
