{
 "cells": [
  {
   "cell_type": "code",
   "execution_count": 1,
   "metadata": {},
   "outputs": [],
   "source": [
    "import os\n",
    "import sys\n",
    "\n",
    "from sqlalchemy import inspect,Column,String,Integer\n",
    "from sqlalchemy.ext.declarative import declarative_base\n",
    "from sqlalchemy import create_engine\n",
    "import pandas as pd\n",
    "from sqlalchemy.ext.automap import automap_base\n",
    "from sqlalchemy.orm import Session, relationship\n",
    "\n"
   ]
  },
  {
   "cell_type": "code",
   "execution_count": 2,
   "metadata": {},
   "outputs": [],
   "source": [
    "Base = declarative_base()"
   ]
  },
  {
   "cell_type": "code",
   "execution_count": 3,
   "metadata": {},
   "outputs": [],
   "source": [
    "class country(Base):\n",
    "    __tablename__ = \"country\"\n",
    "    index = Column(Integer, primary_key=True)\n",
    "#     id = Column(Integer, primary_key=True)\n",
    "    Year = Column(String)\n",
    "    GDP = Column(Integer)\n",
    "    Growth = Column(Integer)\n",
    "    Inflation = Column(Integer)\n",
    "    UR = Column(Integer)\n",
    "    ER= Column(Integer)\n",
    "    Population = Column(Integer)\n",
    "    Avg_age_population = Column(Integer)\n",
    "    Households_number  = Column(Integer)\n",
    "    Consumer_Expenditure  = Column(Integer)\n",
    "    internet_Users  = Column(Integer)\n",
    "    country = Column(String)"
   ]
  },
  {
   "cell_type": "code",
   "execution_count": 4,
   "metadata": {
    "scrolled": true
   },
   "outputs": [],
   "source": [
    "\n",
    "engine = create_engine('sqlite:///testwo.db', echo=False)\n",
    "\n",
    "# conn = engine.connect()"
   ]
  },
  {
   "cell_type": "code",
   "execution_count": 5,
   "metadata": {},
   "outputs": [],
   "source": [
    "Base.metadata.create_all(engine)\n"
   ]
  },
  {
   "cell_type": "code",
   "execution_count": null,
   "metadata": {},
   "outputs": [],
   "source": [
    "session = Session(bind=engine)"
   ]
  },
  {
   "cell_type": "code",
   "execution_count": 6,
   "metadata": {},
   "outputs": [
    {
     "data": {
      "text/plain": [
       "['country']"
      ]
     },
     "execution_count": 6,
     "metadata": {},
     "output_type": "execute_result"
    }
   ],
   "source": [
    "Base = automap_base()\n",
    "Base.prepare(engine, reflect=True)\n",
    "Base.classes.keys()"
   ]
  },
  {
   "cell_type": "code",
   "execution_count": 7,
   "metadata": {},
   "outputs": [],
   "source": [
    "file_name = 'csv/country.csv'\n",
    "df=pd.read_csv(file_name)\n",
    "df.to_sql('country',con=engine, if_exists='append')"
   ]
  },
  {
   "cell_type": "code",
   "execution_count": 8,
   "metadata": {},
   "outputs": [
    {
     "data": {
      "text/plain": [
       "['country']"
      ]
     },
     "execution_count": 8,
     "metadata": {},
     "output_type": "execute_result"
    }
   ],
   "source": [
    "\n",
    "Base = automap_base()\n",
    "Base.prepare(engine, reflect=True)\n",
    "Base.classes.keys()\n"
   ]
  },
  {
   "cell_type": "code",
   "execution_count": 10,
   "metadata": {},
   "outputs": [
    {
     "data": {
      "text/plain": [
       "[(0, '2013', 9570302.2, 7.8, 2.6, 3, 6.2, 1354040, 37.1, 438932.8, 3562699.2, 584026.3, 'china'),\n",
       " (1, '2014', 10439965.5, 7.3, 1.9, 3.1, 6.1, 1360720, 37.4, 445821, 3943565.5, 612755.9, 'china'),\n",
       " (2, '2015', 11015504.9, 6.9, 1.4, 3.3, 6.2, 1367820, 37.6, 452778.1, 4256794.1, 645814.2, 'china'),\n",
       " (3, '2016', 11138042.2, 6.7, 2, 3.6, 6.6, 1374620, 37.8, 459551.8, 4408443.4, 684987.1, 'china'),\n",
       " (4, '2017', 12143201.1, 6.9, 1.6, 3.7, 6.8, 1382710, 38, 466786.8, 4697194.9, 702685.6, 'china')]"
      ]
     },
     "execution_count": 10,
     "metadata": {},
     "output_type": "execute_result"
    }
   ],
   "source": [
    "engine.execute('SELECT * FROM country LIMIT 5').fetchall()"
   ]
  },
  {
   "cell_type": "code",
   "execution_count": 11,
   "metadata": {},
   "outputs": [
    {
     "name": "stdout",
     "output_type": "stream",
     "text": [
      "index INTEGER\n",
      "Year VARCHAR\n",
      "GDP INTEGER\n",
      "Growth INTEGER\n",
      "Inflation INTEGER\n",
      "UR INTEGER\n",
      "ER INTEGER\n",
      "Population INTEGER\n",
      "Avg_age_population INTEGER\n",
      "Households_number INTEGER\n",
      "Consumer_Expenditure INTEGER\n",
      "internet_Users INTEGER\n",
      "country VARCHAR\n"
     ]
    }
   ],
   "source": [
    "inspector = inspect(engine)\n",
    "columns = inspector.get_columns('country')\n",
    "for c in columns:\n",
    "    print(c['name'], c[\"type\"])"
   ]
  },
  {
   "cell_type": "code",
   "execution_count": null,
   "metadata": {},
   "outputs": [],
   "source": []
  },
  {
   "cell_type": "code",
   "execution_count": null,
   "metadata": {},
   "outputs": [],
   "source": []
  },
  {
   "cell_type": "code",
   "execution_count": null,
   "metadata": {},
   "outputs": [],
   "source": []
  }
 ],
 "metadata": {
  "kernelspec": {
   "display_name": "Python 3",
   "language": "python",
   "name": "python3"
  },
  "language_info": {
   "codemirror_mode": {
    "name": "ipython",
    "version": 3
   },
   "file_extension": ".py",
   "mimetype": "text/x-python",
   "name": "python",
   "nbconvert_exporter": "python",
   "pygments_lexer": "ipython3",
   "version": "3.7.3"
  }
 },
 "nbformat": 4,
 "nbformat_minor": 2
}
