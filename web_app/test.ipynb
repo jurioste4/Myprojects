{
 "cells": [
  {
   "cell_type": "code",
   "execution_count": 1,
   "metadata": {},
   "outputs": [],
   "source": [
    "import warnings\n",
    "warnings.filterwarnings('ignore')"
   ]
  },
  {
   "cell_type": "code",
   "execution_count": 2,
   "metadata": {},
   "outputs": [],
   "source": [
    "import sqlalchemy\n",
    "from sqlalchemy.ext.automap import automap_base\n",
    "from sqlalchemy.orm import Session\n",
    "from sqlalchemy import create_engine,inspect\n",
    "from sqlalchemy import func, Column, Integer, String, Float"
   ]
  },
  {
   "cell_type": "code",
   "execution_count": null,
   "metadata": {},
   "outputs": [],
   "source": [
    "# from sqlalchemy.ext.declarative import declarative_base\n",
    "# Base = declarative_base()"
   ]
  },
  {
   "cell_type": "code",
   "execution_count": null,
   "metadata": {},
   "outputs": [],
   "source": [
    "# class Country(Base):\n",
    "#     __tablename__ = 'surfers'\n",
    "#     id = Column(Integer, primary_key=True)\n",
    "#     name = Column(String(255))\n",
    "#     hometown = Column(String(255))\n",
    "#     wipeouts = Column(Integer)\n",
    "#     rank = Column(Integer)"
   ]
  },
  {
   "cell_type": "code",
   "execution_count": 3,
   "metadata": {},
   "outputs": [],
   "source": [
    "engine = create_engine(\"sqlite:///usa.sqlite\", echo=False)"
   ]
  },
  {
   "cell_type": "code",
   "execution_count": 4,
   "metadata": {},
   "outputs": [
    {
     "data": {
      "text/plain": [
       "[('2013', 16784851, 1.8, 1.5, 7.4, 1, 316234.5, 37.6, 122459, 11015084.2, 211614.3),\n",
       " ('2014', 17527258.3, 2.5, 1.6, 6.2, 1, 318622.5, 37.7, 123229, 11509306.2, 218081.1),\n",
       " ('2015', 18224780.3, 2.9, 0.1, 5.3, 1, 321039.8, 37.8, 124587, 11975445.7, 224496.5),\n",
       " ('2016', 18715040.5, 1.6, 1.3, 4.9, 1, 323405.9, 37.9, 125819, 12403157.7, 259594.6),\n",
       " ('2017', 19519423.5, 2.4, 2.1, 4.3, 1, 325719.2, 38.1, 126224, 12948036.6, 266839.5)]"
      ]
     },
     "execution_count": 4,
     "metadata": {},
     "output_type": "execute_result"
    }
   ],
   "source": [
    "engine.execute('SELECT * FROM usa LIMIT 5').fetchall()"
   ]
  },
  {
   "cell_type": "code",
   "execution_count": 5,
   "metadata": {},
   "outputs": [
    {
     "name": "stdout",
     "output_type": "stream",
     "text": [
      "Year TEXT\n",
      "GDP(Mil) NUMERIC\n",
      "GDPGrowth(%) NUMERIC\n",
      "Inflation(%) NUMERIC\n",
      "UR(%econactivepop) NUMERIC\n",
      "ExchangeRatesAgainstUSDollar(USDperUSD) NUMERIC\n",
      "TotalPopulation(000) NUMERIC\n",
      "MedianAgeofPopulation(years) NUMERIC\n",
      "NumberofHouseholds(000) NUMERIC\n",
      "ConsumerExpenditure(USDmillion) NUMERIC\n",
      "InternetUsers(000) NUMERIC\n"
     ]
    }
   ],
   "source": [
    "inspector = inspect(engine)\n",
    "columns = inspector.get_columns('usa')\n",
    "for c in columns:\n",
    "    print(c['name'], c[\"type\"])"
   ]
  },
  {
   "cell_type": "code",
   "execution_count": 7,
   "metadata": {},
   "outputs": [
    {
     "data": {
      "text/plain": [
       "[]"
      ]
     },
     "execution_count": 7,
     "metadata": {},
     "output_type": "execute_result"
    }
   ],
   "source": [
    "Base = automap_base()\n",
    "Base.prepare(engine, reflect=True)\n",
    "Base.classes.keys()"
   ]
  },
  {
   "cell_type": "code",
   "execution_count": null,
   "metadata": {},
   "outputs": [],
   "source": []
  }
 ],
 "metadata": {
  "kernelspec": {
   "display_name": "Python 3",
   "language": "python",
   "name": "python3"
  },
  "language_info": {
   "codemirror_mode": {
    "name": "ipython",
    "version": 3
   },
   "file_extension": ".py",
   "mimetype": "text/x-python",
   "name": "python",
   "nbconvert_exporter": "python",
   "pygments_lexer": "ipython3",
   "version": "3.7.5"
  }
 },
 "nbformat": 4,
 "nbformat_minor": 2
}
