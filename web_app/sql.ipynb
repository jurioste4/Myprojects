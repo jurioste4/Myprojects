{
 "cells": [
  {
   "cell_type": "code",
   "execution_count": 1,
   "metadata": {},
   "outputs": [],
   "source": [
    "import pandas as pd\n",
    "import sqlalchemy\n",
    "from sqlalchemy.ext.automap import automap_base\n",
    "from sqlalchemy.orm import Session\n",
    "from sqlalchemy import create_engine, inspect, func\n"
   ]
  },
  {
   "cell_type": "code",
   "execution_count": 2,
   "metadata": {},
   "outputs": [],
   "source": [
    "\n",
    "engine = create_engine(\"sqlite:///usa.sqlite\", echo=False)"
   ]
  },
  {
   "cell_type": "code",
   "execution_count": 3,
   "metadata": {},
   "outputs": [
    {
     "data": {
      "text/plain": [
       "[(0, 2013, 16784851.0, 1.8, 1.5, 7.4, 1.0, 316234.5, 37.6, 122459.0, 11015084.2, 211614.3),\n",
       " (1, 2014, 17527258.3, 2.5, 1.6, 6.2, 1.0, 318622.5, 37.7, 123229.0, 11509306.2, 218081.1),\n",
       " (2, 2015, 18224780.3, 2.9, 0.1, 5.3, 1.0, 321039.8, 37.8, 124587.0, 11975445.7, 224496.5),\n",
       " (3, 2016, 18715040.5, 1.6, 1.3, 4.9, 1.0, 323405.9, 37.9, 125819.0, 12403157.7, 259594.6),\n",
       " (4, 2017, 19519423.5, 2.4, 2.1, 4.3, 1.0, 325719.2, 38.1, 126224.0, 12948036.6, 266839.5)]"
      ]
     },
     "execution_count": 3,
     "metadata": {},
     "output_type": "execute_result"
    }
   ],
   "source": [
    "engine.execute('SELECT * FROM usa LIMIT 5').fetchall()"
   ]
  },
  {
   "cell_type": "code",
   "execution_count": 4,
   "metadata": {},
   "outputs": [
    {
     "name": "stdout",
     "output_type": "stream",
     "text": [
      "id BIGINT\n",
      "Year BIGINT\n",
      "GDP (Mil) FLOAT\n",
      "GDP Growth (%) FLOAT\n",
      "Inflation (%) FLOAT\n",
      "UR (% econ active pop) FLOAT\n",
      "Exchange Rates Against US Dollar (USD per USD) FLOAT\n",
      "Total Population ('000) FLOAT\n",
      "Median Age of Population (years) FLOAT\n",
      "Number of Households ('000) FLOAT\n",
      "Consumer Expenditure (USD million) FLOAT\n",
      "Internet Users ('000) FLOAT\n"
     ]
    }
   ],
   "source": [
    "inspector = inspect(engine)\n",
    "columns = inspector.get_columns('usa')\n",
    "for c in columns:\n",
    "    print(c['name'], c[\"type\"])"
   ]
  },
  {
   "cell_type": "code",
   "execution_count": 5,
   "metadata": {
    "scrolled": true
   },
   "outputs": [
    {
     "data": {
      "text/plain": [
       "[]"
      ]
     },
     "execution_count": 5,
     "metadata": {},
     "output_type": "execute_result"
    }
   ],
   "source": [
    "Base = automap_base()\n",
    "Base.prepare(engine, reflect=True)\n",
    "Base.classes.keys()"
   ]
  },
  {
   "cell_type": "code",
   "execution_count": null,
   "metadata": {},
   "outputs": [],
   "source": []
  },
  {
   "cell_type": "code",
   "execution_count": null,
   "metadata": {},
   "outputs": [],
   "source": []
  }
 ],
 "metadata": {
  "kernelspec": {
   "display_name": "Python 3",
   "language": "python",
   "name": "python3"
  },
  "language_info": {
   "codemirror_mode": {
    "name": "ipython",
    "version": 3
   },
   "file_extension": ".py",
   "mimetype": "text/x-python",
   "name": "python",
   "nbconvert_exporter": "python",
   "pygments_lexer": "ipython3",
   "version": "3.7.5"
  }
 },
 "nbformat": 4,
 "nbformat_minor": 2
}
